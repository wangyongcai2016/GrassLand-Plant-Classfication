{
 "cells": [
  {
   "cell_type": "code",
   "execution_count": 10,
   "metadata": {
    "collapsed": true
   },
   "outputs": [],
   "source": [
    "import os\n",
    "import glob\n",
    "import re\n",
    "from PIL import Image\n",
    "import pandas as pd\n",
    "import shutil\n",
    "\n",
    "if __name__ == '__main__':\n",
    "    imagepath = r\"G:\\海拉尔&锡盟激光雷达数据\\图像标注\\植物分割\\毛登样地\\images\"\n",
    "    lablepath = r\"G:\\海拉尔&锡盟激光雷达数据\\图像标注\\植物分割\\毛登样地\\labels\"\n",
    "    outimagepath = r\"G:\\海拉尔&锡盟激光雷达数据\\图像标注\\植物分割\\整理\\毛登样地\\images\"\n",
    "    outlablepath = r\"G:\\海拉尔&锡盟激光雷达数据\\图像标注\\植物分割\\整理\\毛登样地\\labels\"\n",
    "\n",
    "    data = pd.read_excel(r\"G:\\海拉尔&锡盟激光雷达数据\\图像标注\\植物分割\\整理\\毛登牧场.xlsx\")\n",
    "    masklable = glob.glob(os.path.join(lablepath,\"*.png\"))\n",
    "    for i,img in enumerate(data[\"image\"]):\n",
    "        imagef = os.path.join(imagepath,os.path.basename(img))\n",
    "        outimage = os.path.join(outimagepath,os.path.basename(img).replace(\".jpg\",\".png\"))\n",
    "        im = Image.open(imagef)\n",
    "        im.save(outimage)\n",
    "        id = data.loc[i,\"id\"]\n",
    "        lablef = glob.glob(os.path.join(lablepath,f\"task-{id}-*.png\"))[0]\n",
    "        outlable = os.path.join(outlablepath,)\n",
    "        shutil.copyfile(lablef,os.path.join(outlablepath,os.path.basename(img).replace(\".jpg\",\".png\")))"
   ]
  },
  {
   "cell_type": "code",
   "execution_count": 27,
   "outputs": [],
   "source": [
    "#分割样本集将样本划分为训练集、验证集、测试集\n",
    "import os\n",
    "import shutil\n",
    "from sklearn.model_selection import train_test_split\n",
    "# Read images and annotations\n",
    "imagepath = r\"G:\\海拉尔&锡盟激光雷达数据\\图像标注\\植物分割\\整理\\合并\\合并集2\\images\"\n",
    "labelpath = r\"G:\\海拉尔&锡盟激光雷达数据\\图像标注\\植物分割\\整理\\合并\\合并集2\\labels\"\n",
    "\n",
    "images = glob.glob(os.path.join(imagepath,\"*.png\"))\n",
    "mask = glob.glob(os.path.join(labelpath,\"*.png\"))\n",
    "images.sort()\n",
    "mask.sort()\n",
    "\n",
    "# Split the dataset into train-valid-test splits\n",
    "train_images, val_images, train_annotations, val_annotations = train_test_split(images, mask, test_size = 0.2, random_state = 1)\n",
    "val_images, test_images, val_annotations, test_annotations = train_test_split(val_images, val_annotations, test_size = 0.5, random_state = 1)\n",
    "\n",
    "#Utility function to move images\n",
    "def move_files_to_folder(list_of_files, destination_folder):\n",
    "    for f in list_of_files:\n",
    "        try:\n",
    "            shutil.move(f, destination_folder)\n",
    "        except:\n",
    "            print(f)\n",
    "            assert False\n",
    "\n",
    "def copy_files_to_folder(list_of_files, destination_folder):\n",
    "    for f in list_of_files:\n",
    "        outfname = os.path.join(destination_folder,os.path.basename(f))\n",
    "        try:\n",
    "            shutil.copyfile(f,outfname)\n",
    "        except:\n",
    "            print(f)\n",
    "            assert False\n",
    "# Move the splits into their folders\n",
    "copy_files_to_folder(train_images, r'G:\\海拉尔&锡盟激光雷达数据\\图像标注\\植物分割\\整理\\合并\\数据集划分\\合并集2\\train\\images')\n",
    "copy_files_to_folder(val_images, r'G:\\海拉尔&锡盟激光雷达数据\\图像标注\\植物分割\\整理\\合并\\数据集划分\\合并集2\\valid\\images')\n",
    "copy_files_to_folder(test_images, r'G:\\海拉尔&锡盟激光雷达数据\\图像标注\\植物分割\\整理\\合并\\数据集划分\\合并集2\\test\\images')\n",
    "copy_files_to_folder(train_annotations, r'G:\\海拉尔&锡盟激光雷达数据\\图像标注\\植物分割\\整理\\合并\\数据集划分\\合并集2\\train\\labels')\n",
    "copy_files_to_folder(val_annotations, r'G:\\海拉尔&锡盟激光雷达数据\\图像标注\\植物分割\\整理\\合并\\数据集划分\\合并集2\\valid\\labels')\n",
    "copy_files_to_folder(test_annotations, r'G:\\海拉尔&锡盟激光雷达数据\\图像标注\\植物分割\\整理\\合并\\数据集划分\\合并集2\\test\\labels')"
   ],
   "metadata": {
    "collapsed": false
   }
  },
  {
   "cell_type": "code",
   "execution_count": 26,
   "outputs": [],
   "source": [
    "import os\n",
    "import glob\n",
    "import shutil\n",
    "\n",
    "if __name__ == '__main__':\n",
    "    inpath = r\"E:\\科研\\草地盖度估算比较\\Data\\PlantSeg\\DataforYuetal\\DataforYu_etal\\test\\HLC\"\n",
    "    outimage = r\"G:\\海拉尔&锡盟激光雷达数据\\图像标注\\植物分割\\整理\\合并\\合并集2\\images\"\n",
    "    outlable = r\"G:\\海拉尔&锡盟激光雷达数据\\图像标注\\植物分割\\整理\\合并\\合并集2\\labels\"\n",
    "    for f in glob.glob(os.path.join(inpath,\"*.png\")):\n",
    "        if \"mask\" in f:\n",
    "            shutil.copyfile(f,os.path.join(outlable,os.path.basename(f).replace(\"_mask\",\"\")))\n",
    "        else:\n",
    "            shutil.copy(f,outimage)"
   ],
   "metadata": {
    "collapsed": false
   }
  },
  {
   "cell_type": "code",
   "execution_count": null,
   "outputs": [],
   "source": [],
   "metadata": {
    "collapsed": false
   }
  }
 ],
 "metadata": {
  "kernelspec": {
   "display_name": "Python 3",
   "language": "python",
   "name": "python3"
  },
  "language_info": {
   "codemirror_mode": {
    "name": "ipython",
    "version": 2
   },
   "file_extension": ".py",
   "mimetype": "text/x-python",
   "name": "python",
   "nbconvert_exporter": "python",
   "pygments_lexer": "ipython2",
   "version": "2.7.6"
  }
 },
 "nbformat": 4,
 "nbformat_minor": 0
}
