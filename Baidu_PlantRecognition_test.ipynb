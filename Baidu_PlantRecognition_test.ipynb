{
 "cells": [
  {
   "cell_type": "code",
   "execution_count": 35,
   "outputs": [],
   "source": [
    "# encoding:utf-8\n",
    "\n",
    "import requests\n",
    "import base64\n",
    "import os\n",
    "import glob\n",
    "import pandas as pd\n",
    "\n",
    "'''\n",
    "植物识别\n",
    "'''\n",
    "if __name__ == '__main__':\n",
    "    basepath = r\"E:\\论文\\草地植物分类\\test_rename\"\n",
    "    request_url = \"https://aip.baidubce.com/rest/2.0/image-classify/v1/plant\"\n",
    "    data = pd.read_excel(r\"E:\\论文\\草地植物分类\\测试\\百度识图测试\\百度识图植物识别测试结果1.xlsx\")\n",
    "    flist = data[\"Filename\"].to_list()\n",
    "    df = pd.DataFrame(columns=[\"Filename\",\"PlantName\",\"top1_classname\",\"top1_prob\",\"top5_classname\",\"top5_prob\"])\n",
    "    # 二进制方式打开图片文件\n",
    "    image_list = glob.glob(os.path.join(basepath,\"*\",\"*.jpg\"))\n",
    "    for i,f in enumerate(image_list):\n",
    "        if f in flist:\n",
    "            continue\n",
    "        try:\n",
    "            fid = open(f, 'rb')\n",
    "            img = base64.b64encode(fid.read())\n",
    "            params = {\"image\":img}\n",
    "            access_token = '24.ac5315816ccc5d9c55e385000626bbce.2592000.1689045988.282335-34654121'\n",
    "            request_url = request_url + \"?access_token=\" + access_token\n",
    "            headers = {'content-type': 'application/x-www-form-urlencoded'}\n",
    "            response = requests.post(request_url, data=params, headers=headers)\n",
    "            if response:\n",
    "                df.loc[i,\"Filename\"] = f\n",
    "                df.loc[i,\"PlantName\"] = os.path.basename(f).split(\"_\")[0]\n",
    "                result = response.json()[\"result\"]\n",
    "                plantname = [j[\"name\"] for j in result]\n",
    "                score = [j[\"score\"] for j in result]\n",
    "                df.loc[i,\"top1_classname\"] = plantname[0]\n",
    "                df.loc[i,\"top1_prob\"] = score[0]\n",
    "                df.loc[i,\"top5_classname\"] = plantname\n",
    "                df.loc[i,\"top5_prob\"] = score\n",
    "        except Exception as e:\n",
    "            print(e)\n",
    "        finally:\n",
    "            print(f\"{i}:{f}\")\n",
    "    with pd.ExcelWriter(r\"E:\\论文\\草地植物分类\\测试\\百度识图测试\\百度识图植物识别测试结果1.xlsx\") as writer:\n",
    "        df.to_excel(writer)"
   ],
   "metadata": {
    "collapsed": false,
    "ExecuteTime": {
     "end_time": "2023-06-13T01:12:48.161482600Z",
     "start_time": "2023-06-13T01:12:47.299731800Z"
    }
   }
  },
  {
   "cell_type": "code",
   "execution_count": 36,
   "outputs": [
    {
     "data": {
      "text/plain": "Empty DataFrame\nColumns: [Filename, PlantName, top1_classname, top1_prob, top5_classname, top5_prob]\nIndex: []",
      "text/html": "<div>\n<style scoped>\n    .dataframe tbody tr th:only-of-type {\n        vertical-align: middle;\n    }\n\n    .dataframe tbody tr th {\n        vertical-align: top;\n    }\n\n    .dataframe thead th {\n        text-align: right;\n    }\n</style>\n<table border=\"1\" class=\"dataframe\">\n  <thead>\n    <tr style=\"text-align: right;\">\n      <th></th>\n      <th>Filename</th>\n      <th>PlantName</th>\n      <th>top1_classname</th>\n      <th>top1_prob</th>\n      <th>top5_classname</th>\n      <th>top5_prob</th>\n    </tr>\n  </thead>\n  <tbody>\n  </tbody>\n</table>\n</div>"
     },
     "execution_count": 36,
     "metadata": {},
     "output_type": "execute_result"
    }
   ],
   "source": [
    "df"
   ],
   "metadata": {
    "collapsed": false,
    "ExecuteTime": {
     "end_time": "2023-06-13T01:13:13.433975500Z",
     "start_time": "2023-06-13T01:13:13.400904100Z"
    }
   }
  },
  {
   "cell_type": "code",
   "execution_count": 1,
   "outputs": [],
   "source": [
    "###按照某个字段去除重复行\n",
    "import os\n",
    "import pandas as pd\n",
    "\n",
    "if __name__ == '__main__':\n",
    "    fname = r\"E:\\论文\\草地植物分类\\测试\\花伴侣测试\\花伴侣测试结果.xlsx\"\n",
    "    data = pd.read_excel(fname)\n",
    "    data_dropdrop = data.drop_duplicates([\"Filename\"])\n",
    "    with pd.ExcelWriter(r\"E:\\论文\\草地植物分类\\测试\\花伴侣测试\\花伴侣测试结果1.xlsx\") as writer:\n",
    "        data_dropdrop.to_excel(writer)"
   ],
   "metadata": {
    "collapsed": false,
    "ExecuteTime": {
     "end_time": "2023-06-13T07:58:11.464118700Z",
     "start_time": "2023-06-13T07:58:06.720641Z"
    }
   }
  },
  {
   "cell_type": "code",
   "execution_count": 31,
   "outputs": [
    {
     "data": {
      "text/plain": "      Unnamed: 0                                           Filename  \\\n0              0  E:\\论文\\草地植物分类\\test_rename\\Achillea asiatica\\Ach...   \n1              1  E:\\论文\\草地植物分类\\test_rename\\Achillea asiatica\\Ach...   \n2              2  E:\\论文\\草地植物分类\\test_rename\\Achillea asiatica\\Ach...   \n3              3  E:\\论文\\草地植物分类\\test_rename\\Achillea asiatica\\Ach...   \n4              4  E:\\论文\\草地植物分类\\test_rename\\Achillea asiatica\\Ach...   \n...          ...                                                ...   \n7451        7065  E:\\论文\\草地植物分类\\test_rename\\Zanthoxylum schinifol...   \n7452        7066  E:\\论文\\草地植物分类\\test_rename\\Zanthoxylum schinifol...   \n7453        7067  E:\\论文\\草地植物分类\\test_rename\\Zanthoxylum schinifol...   \n7454        7068  E:\\论文\\草地植物分类\\test_rename\\Zanthoxylum schinifol...   \n7455        7069  E:\\论文\\草地植物分类\\test_rename\\Zanthoxylum schinifol...   \n\n                     PlantName top1_classname  top1_prob  \\\n0            Achillea asiatica              蓍   0.725437   \n1            Achillea asiatica              蓍   0.749622   \n2            Achillea asiatica              蓍   0.663341   \n3            Achillea asiatica             水芹   0.475441   \n4            Achillea asiatica              蓍   0.697615   \n...                        ...            ...        ...   \n7451  Zanthoxylum schinifolium            胡椒木   0.534752   \n7452  Zanthoxylum schinifolium            青花椒   0.690188   \n7453  Zanthoxylum schinifolium            非植物   0.247922   \n7454  Zanthoxylum schinifolium            青花椒   0.929228   \n7455  Zanthoxylum schinifolium           簕欓花椒   0.968987   \n\n               top5_classname                              top5_prob  \n0          ['蓍', '蛇床', '高山蓍']    [0.7254373, 0.15852666, 0.06850578]  \n1          ['蓍', '蛇床', '高山蓍']   [0.74962187, 0.09765284, 0.06245964]  \n2         ['蓍', '高山蓍', '亚洲蓍']   [0.6633406, 0.13245314, 0.037139885]  \n3          ['水芹', '蓍', '高山蓍']   [0.47544116, 0.32192203, 0.12920031]  \n4         ['蓍', '高山蓍', '亚洲蓍']     [0.6976154, 0.1808427, 0.05028676]  \n...                       ...                                    ...  \n7451    ['胡椒木', '清香木', '青花椒']   [0.5347522, 0.33574772, 0.062112108]  \n7452    ['青花椒', '花椒', '簕欓花椒']   [0.69018775, 0.22533786, 0.19801325]  \n7453                  ['非植物']                           [0.24792172]  \n7454    ['青花椒', '当归藤', '胡椒木']  [0.92922795, 0.06139351, 0.043508537]  \n7455  ['簕欓花椒', '青花椒', '贵州花椒']   [0.968987, 0.009944729, 0.008270194]  \n\n[7456 rows x 7 columns]",
      "text/html": "<div>\n<style scoped>\n    .dataframe tbody tr th:only-of-type {\n        vertical-align: middle;\n    }\n\n    .dataframe tbody tr th {\n        vertical-align: top;\n    }\n\n    .dataframe thead th {\n        text-align: right;\n    }\n</style>\n<table border=\"1\" class=\"dataframe\">\n  <thead>\n    <tr style=\"text-align: right;\">\n      <th></th>\n      <th>Unnamed: 0</th>\n      <th>Filename</th>\n      <th>PlantName</th>\n      <th>top1_classname</th>\n      <th>top1_prob</th>\n      <th>top5_classname</th>\n      <th>top5_prob</th>\n    </tr>\n  </thead>\n  <tbody>\n    <tr>\n      <th>0</th>\n      <td>0</td>\n      <td>E:\\论文\\草地植物分类\\test_rename\\Achillea asiatica\\Ach...</td>\n      <td>Achillea asiatica</td>\n      <td>蓍</td>\n      <td>0.725437</td>\n      <td>['蓍', '蛇床', '高山蓍']</td>\n      <td>[0.7254373, 0.15852666, 0.06850578]</td>\n    </tr>\n    <tr>\n      <th>1</th>\n      <td>1</td>\n      <td>E:\\论文\\草地植物分类\\test_rename\\Achillea asiatica\\Ach...</td>\n      <td>Achillea asiatica</td>\n      <td>蓍</td>\n      <td>0.749622</td>\n      <td>['蓍', '蛇床', '高山蓍']</td>\n      <td>[0.74962187, 0.09765284, 0.06245964]</td>\n    </tr>\n    <tr>\n      <th>2</th>\n      <td>2</td>\n      <td>E:\\论文\\草地植物分类\\test_rename\\Achillea asiatica\\Ach...</td>\n      <td>Achillea asiatica</td>\n      <td>蓍</td>\n      <td>0.663341</td>\n      <td>['蓍', '高山蓍', '亚洲蓍']</td>\n      <td>[0.6633406, 0.13245314, 0.037139885]</td>\n    </tr>\n    <tr>\n      <th>3</th>\n      <td>3</td>\n      <td>E:\\论文\\草地植物分类\\test_rename\\Achillea asiatica\\Ach...</td>\n      <td>Achillea asiatica</td>\n      <td>水芹</td>\n      <td>0.475441</td>\n      <td>['水芹', '蓍', '高山蓍']</td>\n      <td>[0.47544116, 0.32192203, 0.12920031]</td>\n    </tr>\n    <tr>\n      <th>4</th>\n      <td>4</td>\n      <td>E:\\论文\\草地植物分类\\test_rename\\Achillea asiatica\\Ach...</td>\n      <td>Achillea asiatica</td>\n      <td>蓍</td>\n      <td>0.697615</td>\n      <td>['蓍', '高山蓍', '亚洲蓍']</td>\n      <td>[0.6976154, 0.1808427, 0.05028676]</td>\n    </tr>\n    <tr>\n      <th>...</th>\n      <td>...</td>\n      <td>...</td>\n      <td>...</td>\n      <td>...</td>\n      <td>...</td>\n      <td>...</td>\n      <td>...</td>\n    </tr>\n    <tr>\n      <th>7451</th>\n      <td>7065</td>\n      <td>E:\\论文\\草地植物分类\\test_rename\\Zanthoxylum schinifol...</td>\n      <td>Zanthoxylum schinifolium</td>\n      <td>胡椒木</td>\n      <td>0.534752</td>\n      <td>['胡椒木', '清香木', '青花椒']</td>\n      <td>[0.5347522, 0.33574772, 0.062112108]</td>\n    </tr>\n    <tr>\n      <th>7452</th>\n      <td>7066</td>\n      <td>E:\\论文\\草地植物分类\\test_rename\\Zanthoxylum schinifol...</td>\n      <td>Zanthoxylum schinifolium</td>\n      <td>青花椒</td>\n      <td>0.690188</td>\n      <td>['青花椒', '花椒', '簕欓花椒']</td>\n      <td>[0.69018775, 0.22533786, 0.19801325]</td>\n    </tr>\n    <tr>\n      <th>7453</th>\n      <td>7067</td>\n      <td>E:\\论文\\草地植物分类\\test_rename\\Zanthoxylum schinifol...</td>\n      <td>Zanthoxylum schinifolium</td>\n      <td>非植物</td>\n      <td>0.247922</td>\n      <td>['非植物']</td>\n      <td>[0.24792172]</td>\n    </tr>\n    <tr>\n      <th>7454</th>\n      <td>7068</td>\n      <td>E:\\论文\\草地植物分类\\test_rename\\Zanthoxylum schinifol...</td>\n      <td>Zanthoxylum schinifolium</td>\n      <td>青花椒</td>\n      <td>0.929228</td>\n      <td>['青花椒', '当归藤', '胡椒木']</td>\n      <td>[0.92922795, 0.06139351, 0.043508537]</td>\n    </tr>\n    <tr>\n      <th>7455</th>\n      <td>7069</td>\n      <td>E:\\论文\\草地植物分类\\test_rename\\Zanthoxylum schinifol...</td>\n      <td>Zanthoxylum schinifolium</td>\n      <td>簕欓花椒</td>\n      <td>0.968987</td>\n      <td>['簕欓花椒', '青花椒', '贵州花椒']</td>\n      <td>[0.968987, 0.009944729, 0.008270194]</td>\n    </tr>\n  </tbody>\n</table>\n<p>7456 rows × 7 columns</p>\n</div>"
     },
     "execution_count": 31,
     "metadata": {},
     "output_type": "execute_result"
    }
   ],
   "source": [],
   "metadata": {
    "collapsed": false,
    "ExecuteTime": {
     "end_time": "2023-06-13T01:06:48.047707800Z",
     "start_time": "2023-06-13T01:06:48.019275100Z"
    }
   }
  },
  {
   "cell_type": "code",
   "execution_count": 32,
   "outputs": [
    {
     "data": {
      "text/plain": "      Unnamed: 0                                           Filename  \\\n0              0  E:\\论文\\草地植物分类\\test_rename\\Achillea asiatica\\Ach...   \n1              1  E:\\论文\\草地植物分类\\test_rename\\Achillea asiatica\\Ach...   \n2              2  E:\\论文\\草地植物分类\\test_rename\\Achillea asiatica\\Ach...   \n3              3  E:\\论文\\草地植物分类\\test_rename\\Achillea asiatica\\Ach...   \n4              4  E:\\论文\\草地植物分类\\test_rename\\Achillea asiatica\\Ach...   \n...          ...                                                ...   \n7451        7065  E:\\论文\\草地植物分类\\test_rename\\Zanthoxylum schinifol...   \n7452        7066  E:\\论文\\草地植物分类\\test_rename\\Zanthoxylum schinifol...   \n7453        7067  E:\\论文\\草地植物分类\\test_rename\\Zanthoxylum schinifol...   \n7454        7068  E:\\论文\\草地植物分类\\test_rename\\Zanthoxylum schinifol...   \n7455        7069  E:\\论文\\草地植物分类\\test_rename\\Zanthoxylum schinifol...   \n\n                     PlantName top1_classname  top1_prob  \\\n0            Achillea asiatica              蓍   0.725437   \n1            Achillea asiatica              蓍   0.749622   \n2            Achillea asiatica              蓍   0.663341   \n3            Achillea asiatica             水芹   0.475441   \n4            Achillea asiatica              蓍   0.697615   \n...                        ...            ...        ...   \n7451  Zanthoxylum schinifolium            胡椒木   0.534752   \n7452  Zanthoxylum schinifolium            青花椒   0.690188   \n7453  Zanthoxylum schinifolium            非植物   0.247922   \n7454  Zanthoxylum schinifolium            青花椒   0.929228   \n7455  Zanthoxylum schinifolium           簕欓花椒   0.968987   \n\n               top5_classname                              top5_prob  \n0          ['蓍', '蛇床', '高山蓍']    [0.7254373, 0.15852666, 0.06850578]  \n1          ['蓍', '蛇床', '高山蓍']   [0.74962187, 0.09765284, 0.06245964]  \n2         ['蓍', '高山蓍', '亚洲蓍']   [0.6633406, 0.13245314, 0.037139885]  \n3          ['水芹', '蓍', '高山蓍']   [0.47544116, 0.32192203, 0.12920031]  \n4         ['蓍', '高山蓍', '亚洲蓍']     [0.6976154, 0.1808427, 0.05028676]  \n...                       ...                                    ...  \n7451    ['胡椒木', '清香木', '青花椒']   [0.5347522, 0.33574772, 0.062112108]  \n7452    ['青花椒', '花椒', '簕欓花椒']   [0.69018775, 0.22533786, 0.19801325]  \n7453                  ['非植物']                           [0.24792172]  \n7454    ['青花椒', '当归藤', '胡椒木']  [0.92922795, 0.06139351, 0.043508537]  \n7455  ['簕欓花椒', '青花椒', '贵州花椒']   [0.968987, 0.009944729, 0.008270194]  \n\n[7096 rows x 7 columns]",
      "text/html": "<div>\n<style scoped>\n    .dataframe tbody tr th:only-of-type {\n        vertical-align: middle;\n    }\n\n    .dataframe tbody tr th {\n        vertical-align: top;\n    }\n\n    .dataframe thead th {\n        text-align: right;\n    }\n</style>\n<table border=\"1\" class=\"dataframe\">\n  <thead>\n    <tr style=\"text-align: right;\">\n      <th></th>\n      <th>Unnamed: 0</th>\n      <th>Filename</th>\n      <th>PlantName</th>\n      <th>top1_classname</th>\n      <th>top1_prob</th>\n      <th>top5_classname</th>\n      <th>top5_prob</th>\n    </tr>\n  </thead>\n  <tbody>\n    <tr>\n      <th>0</th>\n      <td>0</td>\n      <td>E:\\论文\\草地植物分类\\test_rename\\Achillea asiatica\\Ach...</td>\n      <td>Achillea asiatica</td>\n      <td>蓍</td>\n      <td>0.725437</td>\n      <td>['蓍', '蛇床', '高山蓍']</td>\n      <td>[0.7254373, 0.15852666, 0.06850578]</td>\n    </tr>\n    <tr>\n      <th>1</th>\n      <td>1</td>\n      <td>E:\\论文\\草地植物分类\\test_rename\\Achillea asiatica\\Ach...</td>\n      <td>Achillea asiatica</td>\n      <td>蓍</td>\n      <td>0.749622</td>\n      <td>['蓍', '蛇床', '高山蓍']</td>\n      <td>[0.74962187, 0.09765284, 0.06245964]</td>\n    </tr>\n    <tr>\n      <th>2</th>\n      <td>2</td>\n      <td>E:\\论文\\草地植物分类\\test_rename\\Achillea asiatica\\Ach...</td>\n      <td>Achillea asiatica</td>\n      <td>蓍</td>\n      <td>0.663341</td>\n      <td>['蓍', '高山蓍', '亚洲蓍']</td>\n      <td>[0.6633406, 0.13245314, 0.037139885]</td>\n    </tr>\n    <tr>\n      <th>3</th>\n      <td>3</td>\n      <td>E:\\论文\\草地植物分类\\test_rename\\Achillea asiatica\\Ach...</td>\n      <td>Achillea asiatica</td>\n      <td>水芹</td>\n      <td>0.475441</td>\n      <td>['水芹', '蓍', '高山蓍']</td>\n      <td>[0.47544116, 0.32192203, 0.12920031]</td>\n    </tr>\n    <tr>\n      <th>4</th>\n      <td>4</td>\n      <td>E:\\论文\\草地植物分类\\test_rename\\Achillea asiatica\\Ach...</td>\n      <td>Achillea asiatica</td>\n      <td>蓍</td>\n      <td>0.697615</td>\n      <td>['蓍', '高山蓍', '亚洲蓍']</td>\n      <td>[0.6976154, 0.1808427, 0.05028676]</td>\n    </tr>\n    <tr>\n      <th>...</th>\n      <td>...</td>\n      <td>...</td>\n      <td>...</td>\n      <td>...</td>\n      <td>...</td>\n      <td>...</td>\n      <td>...</td>\n    </tr>\n    <tr>\n      <th>7451</th>\n      <td>7065</td>\n      <td>E:\\论文\\草地植物分类\\test_rename\\Zanthoxylum schinifol...</td>\n      <td>Zanthoxylum schinifolium</td>\n      <td>胡椒木</td>\n      <td>0.534752</td>\n      <td>['胡椒木', '清香木', '青花椒']</td>\n      <td>[0.5347522, 0.33574772, 0.062112108]</td>\n    </tr>\n    <tr>\n      <th>7452</th>\n      <td>7066</td>\n      <td>E:\\论文\\草地植物分类\\test_rename\\Zanthoxylum schinifol...</td>\n      <td>Zanthoxylum schinifolium</td>\n      <td>青花椒</td>\n      <td>0.690188</td>\n      <td>['青花椒', '花椒', '簕欓花椒']</td>\n      <td>[0.69018775, 0.22533786, 0.19801325]</td>\n    </tr>\n    <tr>\n      <th>7453</th>\n      <td>7067</td>\n      <td>E:\\论文\\草地植物分类\\test_rename\\Zanthoxylum schinifol...</td>\n      <td>Zanthoxylum schinifolium</td>\n      <td>非植物</td>\n      <td>0.247922</td>\n      <td>['非植物']</td>\n      <td>[0.24792172]</td>\n    </tr>\n    <tr>\n      <th>7454</th>\n      <td>7068</td>\n      <td>E:\\论文\\草地植物分类\\test_rename\\Zanthoxylum schinifol...</td>\n      <td>Zanthoxylum schinifolium</td>\n      <td>青花椒</td>\n      <td>0.929228</td>\n      <td>['青花椒', '当归藤', '胡椒木']</td>\n      <td>[0.92922795, 0.06139351, 0.043508537]</td>\n    </tr>\n    <tr>\n      <th>7455</th>\n      <td>7069</td>\n      <td>E:\\论文\\草地植物分类\\test_rename\\Zanthoxylum schinifol...</td>\n      <td>Zanthoxylum schinifolium</td>\n      <td>簕欓花椒</td>\n      <td>0.968987</td>\n      <td>['簕欓花椒', '青花椒', '贵州花椒']</td>\n      <td>[0.968987, 0.009944729, 0.008270194]</td>\n    </tr>\n  </tbody>\n</table>\n<p>7096 rows × 7 columns</p>\n</div>"
     },
     "execution_count": 32,
     "metadata": {},
     "output_type": "execute_result"
    }
   ],
   "source": [],
   "metadata": {
    "collapsed": false,
    "ExecuteTime": {
     "end_time": "2023-06-13T01:07:05.615873800Z",
     "start_time": "2023-06-13T01:07:05.586813300Z"
    }
   }
  },
  {
   "cell_type": "code",
   "execution_count": 12,
   "outputs": [],
   "source": [
    "import os\n",
    "import pandas as pd\n",
    "import glob\n",
    "if __name__ == '__main__':\n",
    "    inpath = r\"E:\\论文\\草地植物分类\"\n",
    "    df = pd.read_excel(os.path.join(inpath,\"百度植物识图测试结果.xlsx\"))\n",
    "    for i in range(1,75):\n",
    "        fname = os.path.join(inpath,f\"百度植物识图测试结果{i}.xlsx\")\n",
    "        data = pd.read_excel(fname)\n",
    "        df = pd.concat([df,data],axis=0)\n",
    "    with pd.ExcelWriter(os.path.join(inpath,\"百度识图植物识别测试结果.xlsx\")) as writer:\n",
    "        df.to_excel(writer)"
   ],
   "metadata": {
    "collapsed": false,
    "ExecuteTime": {
     "end_time": "2023-06-12T23:53:44.508616Z",
     "start_time": "2023-06-12T23:53:42.210346700Z"
    }
   }
  },
  {
   "cell_type": "code",
   "execution_count": 1,
   "outputs": [],
   "source": [
    "#将百度识图结果与植物信息表关联起来\n",
    "import os\n",
    "import pandas as pd\n",
    "\n",
    "if __name__ == '__main__':\n",
    "    model_lable = r\"E:\\论文\\草地植物分类\\测试\\百度识图测试\\百度识图植物识别测试结果_去重后.xlsx\"\n",
    "    info_table = r\"E:\\论文\\草地植物分类\\植物信息表_new(831).xlsx\"\n",
    "    df_lable = pd.read_excel(model_lable)\n",
    "    df_info = pd.read_excel(info_table)\n",
    "    result = pd.merge(df_info,df_lable, on=['PlantName','PlantName'], how='left')\n",
    "    with pd.ExcelWriter(r\"E:\\论文\\草地植物分类\\测试\\百度识图测试\\百度识图测试结果_classinfo.xlsx\") as writer:\n",
    "        result.to_excel(writer)"
   ],
   "metadata": {
    "collapsed": false,
    "ExecuteTime": {
     "end_time": "2023-06-16T05:02:33.567026400Z",
     "start_time": "2023-06-16T05:02:26.761900600Z"
    }
   }
  },
  {
   "cell_type": "code",
   "execution_count": 2,
   "outputs": [
    {
     "name": "stdout",
     "output_type": "stream",
     "text": [
      "'in <string>' requires string as left operand, not float\n",
      "'in <string>' requires string as left operand, not float\n",
      "'in <string>' requires string as left operand, not float\n",
      "argument of type 'float' is not iterable\n",
      "argument of type 'float' is not iterable\n",
      "'in <string>' requires string as left operand, not float\n",
      "'in <string>' requires string as left operand, not float\n",
      "'in <string>' requires string as left operand, not float\n",
      "'in <string>' requires string as left operand, not float\n",
      "'in <string>' requires string as left operand, not float\n",
      "'in <string>' requires string as left operand, not float\n",
      "'in <string>' requires string as left operand, not float\n",
      "'in <string>' requires string as left operand, not float\n",
      "'in <string>' requires string as left operand, not float\n",
      "'in <string>' requires string as left operand, not float\n",
      "'in <string>' requires string as left operand, not float\n",
      "'in <string>' requires string as left operand, not float\n",
      "'in <string>' requires string as left operand, not float\n",
      "argument of type 'float' is not iterable\n",
      "argument of type 'float' is not iterable\n",
      "argument of type 'float' is not iterable\n",
      "argument of type 'float' is not iterable\n",
      "argument of type 'float' is not iterable\n",
      "argument of type 'float' is not iterable\n",
      "argument of type 'float' is not iterable\n",
      "'in <string>' requires string as left operand, not float\n",
      "'in <string>' requires string as left operand, not float\n",
      "'in <string>' requires string as left operand, not float\n",
      "'in <string>' requires string as left operand, not float\n",
      "'in <string>' requires string as left operand, not float\n",
      "'in <string>' requires string as left operand, not float\n",
      "'in <string>' requires string as left operand, not float\n",
      "'in <string>' requires string as left operand, not float\n",
      "argument of type 'float' is not iterable\n",
      "argument of type 'float' is not iterable\n",
      "'in <string>' requires string as left operand, not float\n",
      "'in <string>' requires string as left operand, not float\n",
      "'in <string>' requires string as left operand, not float\n",
      "argument of type 'float' is not iterable\n",
      "argument of type 'float' is not iterable\n",
      "'in <string>' requires string as left operand, not float\n",
      "'in <string>' requires string as left operand, not float\n",
      "'in <string>' requires string as left operand, not float\n",
      "'in <string>' requires string as left operand, not float\n",
      "'in <string>' requires string as left operand, not float\n",
      "'in <string>' requires string as left operand, not float\n",
      "'in <string>' requires string as left operand, not float\n",
      "'in <string>' requires string as left operand, not float\n",
      "'in <string>' requires string as left operand, not float\n",
      "'in <string>' requires string as left operand, not float\n",
      "'in <string>' requires string as left operand, not float\n",
      "'in <string>' requires string as left operand, not float\n",
      "'in <string>' requires string as left operand, not float\n",
      "'in <string>' requires string as left operand, not float\n",
      "'in <string>' requires string as left operand, not float\n",
      "'in <string>' requires string as left operand, not float\n",
      "'in <string>' requires string as left operand, not float\n",
      "'in <string>' requires string as left operand, not float\n",
      "argument of type 'float' is not iterable\n",
      "argument of type 'float' is not iterable\n",
      "argument of type 'float' is not iterable\n",
      "argument of type 'float' is not iterable\n",
      "argument of type 'float' is not iterable\n",
      "argument of type 'float' is not iterable\n",
      "argument of type 'float' is not iterable\n",
      "'in <string>' requires string as left operand, not float\n",
      "argument of type 'float' is not iterable\n",
      "argument of type 'float' is not iterable\n",
      "'in <string>' requires string as left operand, not float\n",
      "'in <string>' requires string as left operand, not float\n",
      "'in <string>' requires string as left operand, not float\n",
      "'in <string>' requires string as left operand, not float\n",
      "'in <string>' requires string as left operand, not float\n",
      "'in <string>' requires string as left operand, not float\n",
      "'in <string>' requires string as left operand, not float\n",
      "'in <string>' requires string as left operand, not float\n",
      "'in <string>' requires string as left operand, not float\n",
      "'in <string>' requires string as left operand, not float\n",
      "'in <string>' requires string as left operand, not float\n",
      "'in <string>' requires string as left operand, not float\n",
      "'in <string>' requires string as left operand, not float\n",
      "'in <string>' requires string as left operand, not float\n",
      "'in <string>' requires string as left operand, not float\n",
      "'in <string>' requires string as left operand, not float\n",
      "'in <string>' requires string as left operand, not float\n",
      "'in <string>' requires string as left operand, not float\n",
      "'in <string>' requires string as left operand, not float\n",
      "'in <string>' requires string as left operand, not float\n",
      "'in <string>' requires string as left operand, not float\n",
      "'in <string>' requires string as left operand, not float\n",
      "'in <string>' requires string as left operand, not float\n",
      "'in <string>' requires string as left operand, not float\n",
      "'in <string>' requires string as left operand, not float\n",
      "'in <string>' requires string as left operand, not float\n",
      "'in <string>' requires string as left operand, not float\n",
      "'in <string>' requires string as left operand, not float\n",
      "'in <string>' requires string as left operand, not float\n",
      "'in <string>' requires string as left operand, not float\n",
      "'in <string>' requires string as left operand, not float\n",
      "'in <string>' requires string as left operand, not float\n",
      "'in <string>' requires string as left operand, not float\n",
      "'in <string>' requires string as left operand, not float\n",
      "'in <string>' requires string as left operand, not float\n",
      "argument of type 'float' is not iterable\n",
      "argument of type 'float' is not iterable\n",
      "argument of type 'float' is not iterable\n",
      "'in <string>' requires string as left operand, not float\n",
      "'in <string>' requires string as left operand, not float\n",
      "'in <string>' requires string as left operand, not float\n",
      "'in <string>' requires string as left operand, not float\n",
      "'in <string>' requires string as left operand, not float\n",
      "'in <string>' requires string as left operand, not float\n",
      "'in <string>' requires string as left operand, not float\n",
      "'in <string>' requires string as left operand, not float\n",
      "'in <string>' requires string as left operand, not float\n",
      "'in <string>' requires string as left operand, not float\n",
      "'in <string>' requires string as left operand, not float\n",
      "'in <string>' requires string as left operand, not float\n",
      "'in <string>' requires string as left operand, not float\n",
      "'in <string>' requires string as left operand, not float\n",
      "'in <string>' requires string as left operand, not float\n",
      "'in <string>' requires string as left operand, not float\n",
      "'in <string>' requires string as left operand, not float\n",
      "'in <string>' requires string as left operand, not float\n",
      "'in <string>' requires string as left operand, not float\n",
      "'in <string>' requires string as left operand, not float\n",
      "argument of type 'float' is not iterable\n",
      "argument of type 'float' is not iterable\n",
      "argument of type 'float' is not iterable\n",
      "argument of type 'float' is not iterable\n",
      "argument of type 'float' is not iterable\n",
      "argument of type 'float' is not iterable\n",
      "argument of type 'float' is not iterable\n",
      "argument of type 'float' is not iterable\n",
      "argument of type 'float' is not iterable\n",
      "argument of type 'float' is not iterable\n",
      "argument of type 'float' is not iterable\n"
     ]
    }
   ],
   "source": [
    "#对百度识图的测试结果和实际结果进行比对\n",
    "import os\n",
    "import pandas as pd\n",
    "\n",
    "if __name__ == '__main__':\n",
    "    inpath = r\"E:\\论文\\草地植物分类\\测试\\百度识图测试\"\n",
    "    df = pd.read_excel(os.path.join(inpath,\"百度识图测试结果_classinfo.xlsx\"))\n",
    "    rows,cols = df.shape\n",
    "    for i in range(rows):\n",
    "        try:\n",
    "            df.loc[i,\"top1_test_lable\"] = 1 if df.loc[i,\"中文名\"] == df.loc[i,\"top1_classname\"] else 0\n",
    "            df.loc[i,\"top5_test_lable\"] = 1 if df.loc[i,\"中文名\"] in df.loc[i,\"top5_classname\"] else 0\n",
    "        except Exception as e:\n",
    "            print(e)\n",
    "    with pd.ExcelWriter(os.path.join(inpath,\"百度识图_parser.xlsx\")) as writer:\n",
    "        df.to_excel(writer)"
   ],
   "metadata": {
    "collapsed": false,
    "ExecuteTime": {
     "end_time": "2023-06-16T05:08:55.449459400Z",
     "start_time": "2023-06-16T05:08:49.740833600Z"
    }
   }
  },
  {
   "cell_type": "code",
   "execution_count": 1,
   "outputs": [
    {
     "name": "stderr",
     "output_type": "stream",
     "text": [
      "C:\\Users\\kbqin\\AppData\\Local\\Temp\\ipykernel_10724\\3966092165.py:9: FutureWarning: Indexing with multiple keys (implicitly converted to a tuple of keys) will be deprecated, use a list instead.\n",
      "  infer_df_sum = infer_df.groupby(by=[\"PlantName\"])[\"top1_test_lable\",\"top5_test_lable\"].sum()     #统计每个种类top1和top5预测正确数量\n"
     ]
    }
   ],
   "source": [
    "##花伴侣识别结果按类统计\n",
    "#将分类表和推理表进行匹配，方便后续分类进行统计\n",
    "import pandas as pd\n",
    "import matplotlib.pyplot as plt\n",
    "\n",
    "if __name__ == '__main__':\n",
    "    infer_table = r\"E:\\论文\\草地植物分类\\测试\\百度识图测试\\百度识图_parser.xlsx\"\n",
    "    infer_df = pd.read_excel(infer_table)\n",
    "    infer_df_sum = infer_df.groupby(by=[\"PlantName\"])[\"top1_test_lable\",\"top5_test_lable\"].sum()     #统计每个种类top1和top5预测正确数量\n"
   ],
   "metadata": {
    "collapsed": false,
    "ExecuteTime": {
     "end_time": "2023-06-16T10:13:53.139816400Z",
     "start_time": "2023-06-16T10:13:51.231564800Z"
    }
   }
  },
  {
   "cell_type": "code",
   "execution_count": 4,
   "outputs": [
    {
     "data": {
      "text/plain": "                          top1_test_lable  top5_test_lable\nPlantName                                                 \nAchillea millefolium                 23.0             25.0\nAconitum kusnezoffii                  7.0             15.0\nAcorus calamus                       14.0             16.0\nActaea dahurica                       3.0              7.0\nActinostemma tenerum                 19.0             22.0\n...                                   ...              ...\nViola variegata                       7.0              8.0\nXanthium strumarium                  31.0             31.0\nZanthoxylum schinifolium              4.0              8.0\nZizania latifolia                     9.0              9.0\nZygophyllum xanthoxylum               8.0              8.0\n\n[509 rows x 2 columns]",
      "text/html": "<div>\n<style scoped>\n    .dataframe tbody tr th:only-of-type {\n        vertical-align: middle;\n    }\n\n    .dataframe tbody tr th {\n        vertical-align: top;\n    }\n\n    .dataframe thead th {\n        text-align: right;\n    }\n</style>\n<table border=\"1\" class=\"dataframe\">\n  <thead>\n    <tr style=\"text-align: right;\">\n      <th></th>\n      <th>top1_test_lable</th>\n      <th>top5_test_lable</th>\n    </tr>\n    <tr>\n      <th>PlantName</th>\n      <th></th>\n      <th></th>\n    </tr>\n  </thead>\n  <tbody>\n    <tr>\n      <th>Achillea millefolium</th>\n      <td>23.0</td>\n      <td>25.0</td>\n    </tr>\n    <tr>\n      <th>Aconitum kusnezoffii</th>\n      <td>7.0</td>\n      <td>15.0</td>\n    </tr>\n    <tr>\n      <th>Acorus calamus</th>\n      <td>14.0</td>\n      <td>16.0</td>\n    </tr>\n    <tr>\n      <th>Actaea dahurica</th>\n      <td>3.0</td>\n      <td>7.0</td>\n    </tr>\n    <tr>\n      <th>Actinostemma tenerum</th>\n      <td>19.0</td>\n      <td>22.0</td>\n    </tr>\n    <tr>\n      <th>...</th>\n      <td>...</td>\n      <td>...</td>\n    </tr>\n    <tr>\n      <th>Viola variegata</th>\n      <td>7.0</td>\n      <td>8.0</td>\n    </tr>\n    <tr>\n      <th>Xanthium strumarium</th>\n      <td>31.0</td>\n      <td>31.0</td>\n    </tr>\n    <tr>\n      <th>Zanthoxylum schinifolium</th>\n      <td>4.0</td>\n      <td>8.0</td>\n    </tr>\n    <tr>\n      <th>Zizania latifolia</th>\n      <td>9.0</td>\n      <td>9.0</td>\n    </tr>\n    <tr>\n      <th>Zygophyllum xanthoxylum</th>\n      <td>8.0</td>\n      <td>8.0</td>\n    </tr>\n  </tbody>\n</table>\n<p>509 rows × 2 columns</p>\n</div>"
     },
     "execution_count": 4,
     "metadata": {},
     "output_type": "execute_result"
    }
   ],
   "source": [
    "infer_df_sum.loc[infer_df_sum.top1_test_lable > 0,]"
   ],
   "metadata": {
    "collapsed": false,
    "ExecuteTime": {
     "end_time": "2023-06-16T10:15:04.902398200Z",
     "start_time": "2023-06-16T10:15:04.886764400Z"
    }
   }
  },
  {
   "cell_type": "code",
   "execution_count": null,
   "outputs": [],
   "source": [],
   "metadata": {
    "collapsed": false
   }
  }
 ],
 "metadata": {
  "kernelspec": {
   "display_name": "Python 3",
   "language": "python",
   "name": "python3"
  },
  "language_info": {
   "codemirror_mode": {
    "name": "ipython",
    "version": 2
   },
   "file_extension": ".py",
   "mimetype": "text/x-python",
   "name": "python",
   "nbconvert_exporter": "python",
   "pygments_lexer": "ipython2",
   "version": "2.7.6"
  }
 },
 "nbformat": 4,
 "nbformat_minor": 0
}
