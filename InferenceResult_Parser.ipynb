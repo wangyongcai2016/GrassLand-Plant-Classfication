{
 "cells": [
  {
   "cell_type": "code",
   "execution_count": 13,
   "metadata": {
    "collapsed": true,
    "ExecuteTime": {
     "end_time": "2023-06-04T17:26:44.137543300Z",
     "start_time": "2023-06-04T17:26:43.605169500Z"
    }
   },
   "outputs": [],
   "source": [
    "#根据图像数据，生成模型类别标签对应的种类\n",
    "import os\n",
    "import pandas as pd\n",
    "if __name__ == '__main__':\n",
    "    model_lable = r\"E:\\论文\\草地植物分类\\PlantName2LableID.xlsx\"\n",
    "    info_table = r\"E:\\论文\\草地植物分类\\植物信息表_new(831).xlsx\"\n",
    "    df_lable = pd.read_excel(model_lable)\n",
    "    df_info = pd.read_excel(info_table)\n",
    "    result = pd.merge(df_info,df_lable, on=['PlantName','PlantName'], how='right')\n",
    "    with pd.ExcelWriter(r\"E:\\论文\\草地植物分类\\植物信息表_model_id.xlsx\") as writer:\n",
    "        result.to_excel(writer)"
   ]
  },
  {
   "cell_type": "code",
   "execution_count": 12,
   "outputs": [
    {
     "data": {
      "text/plain": "     Unnamed: 0.1  Unnamed: 0_x   名称  \\\n0              36            36  亚洲蓍   \n1             648           649    蓍   \n2             453           454  短瓣蓍   \n3              20            20  丝叶蓍   \n4             559           560   羽茅   \n..            ...           ...  ...   \n826           237           237   岩蕨   \n827           591           592   苍耳   \n828           772           773  青花椒   \n829           626           627    菰   \n830           770           771   霸王   \n\n                                              学名  \\\n0                        Achillea asiatica Serg.   \n1                        Achillea millefolium L.   \n2                   Achillea ptarmicoides Maxim.   \n3                Achillea setacea Waldst. & Kit.   \n4     Achnatherum sibiricum (L.) Keng ex Tzvelev   \n..                                           ...   \n826                 Woodsia ilvensis (L.) R. Br.   \n827                       Xanthium strumarium L.   \n828     Zanthoxylum schinifolium Siebold & Zucc.   \n829  Zizania latifolia (Griseb.) Turcz. ex Stapf   \n830       Zygophyllum xanthoxylum (Bunge) Maxim.   \n\n                                                    文献  中文名  \\\n0    Sist. Zametki Mater. Gerb. Krylova Tomsk. Gosu...  亚洲蓍   \n1                                Sp. Pl. 2: 899 (1753)    蓍   \n2    Mém. Acad. Imp. Sci. St.-Pétersbourg Divers Sa...  短瓣蓍   \n3                  Descr. Icon. Pl. Hung. 1: 82 (1802)  丝叶蓍   \n4    Probl. Ekol. Geobat. Bot. Geogr. Florist. 140 ...   羽茅   \n..                                                 ...  ...   \n826                                   Prodr. 158(1810)   岩蕨   \n827                              Sp. Pl. 2: 987 (1753)   苍耳   \n828  Abh. Math.-Phys. Cl. Königl. Bayer. Akad. Wiss...  青花椒   \n829             Bull. Misc. Inform. Kew. 9: 385 (1909)    菰   \n830                             Fl. Tangut. 103. 1889.   霸王   \n\n                                                    俗名  \\\n0    异名：\\nAchillea millefolium var. manshurica  Ach...   \n1                                           俗名：蚰蜒草、千叶蓍   \n2    异名：\\nPtarmica ptarmicoides  Achillea sibirica ...   \n3    俗名：西洋蓍草\\n异名：\\nAchillea millefolium var. setacea     \n4    俗名：光颖芨芨草\\n异名：\\nAchnatherum sibirium  Achnather...   \n..                                                 ...   \n826  异名：\\nPolypodium ilvense  Acrostichum ilvense  ...   \n827  俗名：苍子、稀刺苍耳、菜耳、猪耳、野茄、胡苍子、痴头婆、抢子、青棘子、羌子裸子、绵苍浪子、苍...   \n828  俗名：野椒、天椒、崖椒、隔山消、山甲、狗椒、青椒、香椒子、王椒、小花椒、山花椒\\n异名：\\n...   \n829  俗名：高笋、菰笋、菰首、茭首、菰菜、茭白、野茭白、茭笋\\n异名：\\nHydropyrum l...   \n830  异名：\\nZygophyllum xanthoxylon  Sarcozygium xant...   \n\n                                                    异名  \\\n0    Achillea millefolium var. mandshurica (synonym...   \n1                                                  NaN   \n2    Achillea sibirica var. discoidea (synonym)\\nAc...   \n3          Achillea millefolium var. setacea (synonym)   \n4    Avena sibirica (synonym)\\nStipa sibirica (syno...   \n..                                                 ...   \n826  Acrostichum ilvense (synonym)\\nPolypodium ilve...   \n827  Xanthium americanum (synonym)\\nXanthium italic...   \n828  Zanthoxylum mantschuricum (synonym)\\nFagara sc...   \n829  Hydropyrum latifolium (synonym)\\nZizania dahur...   \n830  Zygophyllum ferganense (synonym)\\nSarcozygium ...   \n\n                                                    别名  \\\n0                                                  NaN   \n1             欧蓍(ōu shī)\\n千叶蓍(qiān yè shī)\\n锯草(jù cǎo)   \n2                                                  NaN   \n3                                                  NaN   \n4                          光颖芨芨草(guāng yǐng jī jī cǎo)   \n..                                                 ...   \n826                                                NaN   \n827  粘头婆(zhān tóu pó)\\n虱马头(shī mǎ tóu)\\n苍耳子(cāng ěr...   \n828  山花椒(shān huā jiāo)\\n小花椒(xiǎo huā jiāo)\\n王椒(wán...   \n829       茭儿菜(jiāo ér cài)\\n茭笋(jiāo sǔn)\\n茭白(jiāo bái)   \n830                                                NaN   \n\n                                                  分类系统  \\\n0    界 Plantae-植物界(zhí wù jiè)\\n门 Angiospermae-被子植物...   \n1    界 Plantae-植物界(zhí wù jiè)\\n门 Angiospermae-被子植物...   \n2    界 Plantae-植物界(zhí wù jiè)\\n门 Angiospermae-被子植物...   \n3    界 Plantae-植物界(zhí wù jiè)\\n门 Angiospermae-被子植物...   \n4    界 Plantae-植物界(zhí wù jiè)\\n门 Angiospermae-被子植物...   \n..                                                 ...   \n826  界 Plantae-植物界(zhí wù jiè)\\n门 Pteridophyta-蕨类植物...   \n827  界 Plantae-植物界(zhí wù jiè)\\n门 Angiospermae-被子植物...   \n828  界 Plantae-植物界(zhí wù jiè)\\n门 Angiospermae-被子植物...   \n829  界 Plantae-植物界(zhí wù jiè)\\n门 Angiospermae-被子植物...   \n830  界 Plantae-植物界(zhí wù jiè)\\n门 Angiospermae-被子植物...   \n\n                                               分布地(中文)  \\\n0                                  北京、黑龙江、辽宁、内蒙古、河北、新疆   \n1                                               内蒙古、新疆   \n2                                     北京、黑龙江、辽宁、内蒙古、河北   \n3                                               黑龙江、新疆   \n4                         黑龙江、内蒙古、河南、宁夏、青海、新疆、四川、云南、西藏   \n..                                                 ...   \n826                             黑龙江、吉林、辽宁、内蒙古、河北、北京、新疆   \n827                                             中国各地广布   \n828       辽宁、河北、山东、河南、安徽、江苏、浙江、江西、湖南、湖北、贵州、福建、台湾、广东、广西   \n829  吉林、辽宁、河北、山东、河南、陕西、安徽、江苏、浙江、江西、湖南、湖北、四川、贵州、云南、福...   \n830                                    内蒙古、宁夏、甘肃、青海、新疆   \n\n                                                  审核专家  \\\n0                   Gao Tiangang(高天刚)Zhang Guojin(张国进)   \n1                   Gao Tiangang(高天刚)Zhang Guojin(张国进)   \n2                   Gao Tiangang(高天刚)Zhang Guojin(张国进)   \n3                   Gao Tiangang(高天刚)Zhang Guojin(张国进)   \n4                                      Chen Wenli(陈文俐)   \n..                                                 ...   \n826  Sun Jiuqiong(孙玖琼)Zhang Xianchun(张宪春)Yan Yuehon...   \n827                 Gao Tiangang(高天刚)Zhang Guojin(张国进)   \n828                                  Hou Yuantong(侯元同)   \n829                                    Chen Wenli(陈文俐)   \n830                                       Liu Bing(刘冰)   \n\n                                                  形态特征  \\\n0    生活型： 多年生草本；\\n茎： 茎被棉状长柔毛；\\n叶： 叶线状长圆形、线状披针形或线状倒披...   \n1    生活型： 多年生草本；\\n茎： 茎常被白色长柔毛；\\n叶： 叶无柄，披针形、长圆状披针形或近...   \n2    生活型： 多年生草本，具短的根状茎；\\n茎： 茎直立，高70-100厘米，疏生白色柔毛及黄色...   \n3    生活型： 多年生草本，有纤细匍匐生根的根茎；\\n茎： 茎直立，高30-70厘米，有时稍扭曲，...   \n4    生活型： 植株具鞘外分枝，基部有鳞芽；杆疏丛生；\\n株： 杆疏丛生，高0.5-1.5米，平滑...   \n..                                                 ...   \n826  株： 植株高12-17厘米；\\n茎： 根茎短而直立或斜生，与叶柄基部密被鳞片，鳞片宽披针形，...   \n827  识别要点： 与模式变种的主要区别：茎较矮小，基部有分枝；具瘦果的成熟总苞较小，基部缩小，上端...   \n828  生活型： 灌木；\\n株： 高达2米；\\n茎： 茎枝无毛，基部具侧扁短刺；\\n叶： 奇数羽状复...   \n829  生活型： 多年生，具匍匐根茎；\\n根： 须根粗壮；\\n茎： 秆高1-2米，径约1厘米，多节，...   \n830  生活型： 灌木；\\n株： 高达1米；\\n枝： 枝之字形弯曲，开展，枝皮淡灰色，木质部黄色，顶...   \n\n                                                  生活习性  图像数量  \\\n0    国内产地： 新疆北部，内蒙古、河北北部、辽宁、黑龙江；\\n国外分布： 蒙古、俄罗斯中亚至西伯...   705   \n1    国内产地： 我国各地庭园常有栽培，新疆、内蒙古及东北少见野生；在北美广泛归化；\\n国外分布：...  2419   \n2    国内产地： 东北至河北北部；\\n国外分布： 朝鲜，日本，蒙古，俄罗斯西伯利亚和远东地区；\\n...   203   \n3    国内产地： 新疆北部；\\n国外分布： 欧洲、非洲北部、亚洲西部、俄罗斯中亚至西西伯利亚地区；...    82   \n4    国内产地： 东北、华北、西北及河南、西藏；\\n国外分布： 俄罗斯西伯利亚；\\n生境： 山坡草...   169   \n..                                                 ...   ...   \n826  国内产地： 黑龙江（带岭、黑河、小绥芬河）、吉林（安图）、河北（兴隆）、内蒙古（满洲里、额尔...   106   \n827  国内产地： 黑龙江、辽宁、内蒙古及河北（易县）；\\n国外分布： 日本及印度尼西亚；\\n生境：...  3215   \n828  国内产地： 五岭以北、辽宁以南大多数省区，但不见于云南；\\n国外分布： 朝鲜、日本；\\n生境...  1023   \n829  国内产地： 黑龙江、吉林、辽宁、内蒙古、河北、甘肃、陕西、四川、湖北、湖南、江西、福建、广东...  1000   \n830  国内产地： 内蒙古西部、甘肃西部、宁夏西部、新疆、青海；\\n国外分布： 蒙古；\\n生境： 荒...   909   \n\n                    PlantName  Unnamed: 0_y  Lable_ID  \n0           Achillea asiatica             0         0  \n1        Achillea millefolium             1         1  \n2       Achillea ptarmicoides             2         2  \n3            Achillea setacea             3         3  \n4       Achnatherum sibiricum             4         4  \n..                        ...           ...       ...  \n826          Woodsia ilvensis           826       826  \n827       Xanthium strumarium           827       827  \n828  Zanthoxylum schinifolium           828       828  \n829         Zizania latifolia           829       829  \n830   Zygophyllum xanthoxylum           830       830  \n\n[831 rows x 18 columns]",
      "text/html": "<div>\n<style scoped>\n    .dataframe tbody tr th:only-of-type {\n        vertical-align: middle;\n    }\n\n    .dataframe tbody tr th {\n        vertical-align: top;\n    }\n\n    .dataframe thead th {\n        text-align: right;\n    }\n</style>\n<table border=\"1\" class=\"dataframe\">\n  <thead>\n    <tr style=\"text-align: right;\">\n      <th></th>\n      <th>Unnamed: 0.1</th>\n      <th>Unnamed: 0_x</th>\n      <th>名称</th>\n      <th>学名</th>\n      <th>文献</th>\n      <th>中文名</th>\n      <th>俗名</th>\n      <th>异名</th>\n      <th>别名</th>\n      <th>分类系统</th>\n      <th>分布地(中文)</th>\n      <th>审核专家</th>\n      <th>形态特征</th>\n      <th>生活习性</th>\n      <th>图像数量</th>\n      <th>PlantName</th>\n      <th>Unnamed: 0_y</th>\n      <th>Lable_ID</th>\n    </tr>\n  </thead>\n  <tbody>\n    <tr>\n      <th>0</th>\n      <td>36</td>\n      <td>36</td>\n      <td>亚洲蓍</td>\n      <td>Achillea asiatica Serg.</td>\n      <td>Sist. Zametki Mater. Gerb. Krylova Tomsk. Gosu...</td>\n      <td>亚洲蓍</td>\n      <td>异名：\\nAchillea millefolium var. manshurica  Ach...</td>\n      <td>Achillea millefolium var. mandshurica (synonym...</td>\n      <td>NaN</td>\n      <td>界 Plantae-植物界(zhí wù jiè)\\n门 Angiospermae-被子植物...</td>\n      <td>北京、黑龙江、辽宁、内蒙古、河北、新疆</td>\n      <td>Gao Tiangang(高天刚)Zhang Guojin(张国进)</td>\n      <td>生活型： 多年生草本；\\n茎： 茎被棉状长柔毛；\\n叶： 叶线状长圆形、线状披针形或线状倒披...</td>\n      <td>国内产地： 新疆北部，内蒙古、河北北部、辽宁、黑龙江；\\n国外分布： 蒙古、俄罗斯中亚至西伯...</td>\n      <td>705</td>\n      <td>Achillea asiatica</td>\n      <td>0</td>\n      <td>0</td>\n    </tr>\n    <tr>\n      <th>1</th>\n      <td>648</td>\n      <td>649</td>\n      <td>蓍</td>\n      <td>Achillea millefolium L.</td>\n      <td>Sp. Pl. 2: 899 (1753)</td>\n      <td>蓍</td>\n      <td>俗名：蚰蜒草、千叶蓍</td>\n      <td>NaN</td>\n      <td>欧蓍(ōu shī)\\n千叶蓍(qiān yè shī)\\n锯草(jù cǎo)</td>\n      <td>界 Plantae-植物界(zhí wù jiè)\\n门 Angiospermae-被子植物...</td>\n      <td>内蒙古、新疆</td>\n      <td>Gao Tiangang(高天刚)Zhang Guojin(张国进)</td>\n      <td>生活型： 多年生草本；\\n茎： 茎常被白色长柔毛；\\n叶： 叶无柄，披针形、长圆状披针形或近...</td>\n      <td>国内产地： 我国各地庭园常有栽培，新疆、内蒙古及东北少见野生；在北美广泛归化；\\n国外分布：...</td>\n      <td>2419</td>\n      <td>Achillea millefolium</td>\n      <td>1</td>\n      <td>1</td>\n    </tr>\n    <tr>\n      <th>2</th>\n      <td>453</td>\n      <td>454</td>\n      <td>短瓣蓍</td>\n      <td>Achillea ptarmicoides Maxim.</td>\n      <td>Mém. Acad. Imp. Sci. St.-Pétersbourg Divers Sa...</td>\n      <td>短瓣蓍</td>\n      <td>异名：\\nPtarmica ptarmicoides  Achillea sibirica ...</td>\n      <td>Achillea sibirica var. discoidea (synonym)\\nAc...</td>\n      <td>NaN</td>\n      <td>界 Plantae-植物界(zhí wù jiè)\\n门 Angiospermae-被子植物...</td>\n      <td>北京、黑龙江、辽宁、内蒙古、河北</td>\n      <td>Gao Tiangang(高天刚)Zhang Guojin(张国进)</td>\n      <td>生活型： 多年生草本，具短的根状茎；\\n茎： 茎直立，高70-100厘米，疏生白色柔毛及黄色...</td>\n      <td>国内产地： 东北至河北北部；\\n国外分布： 朝鲜，日本，蒙古，俄罗斯西伯利亚和远东地区；\\n...</td>\n      <td>203</td>\n      <td>Achillea ptarmicoides</td>\n      <td>2</td>\n      <td>2</td>\n    </tr>\n    <tr>\n      <th>3</th>\n      <td>20</td>\n      <td>20</td>\n      <td>丝叶蓍</td>\n      <td>Achillea setacea Waldst. &amp; Kit.</td>\n      <td>Descr. Icon. Pl. Hung. 1: 82 (1802)</td>\n      <td>丝叶蓍</td>\n      <td>俗名：西洋蓍草\\n异名：\\nAchillea millefolium var. setacea</td>\n      <td>Achillea millefolium var. setacea (synonym)</td>\n      <td>NaN</td>\n      <td>界 Plantae-植物界(zhí wù jiè)\\n门 Angiospermae-被子植物...</td>\n      <td>黑龙江、新疆</td>\n      <td>Gao Tiangang(高天刚)Zhang Guojin(张国进)</td>\n      <td>生活型： 多年生草本，有纤细匍匐生根的根茎；\\n茎： 茎直立，高30-70厘米，有时稍扭曲，...</td>\n      <td>国内产地： 新疆北部；\\n国外分布： 欧洲、非洲北部、亚洲西部、俄罗斯中亚至西西伯利亚地区；...</td>\n      <td>82</td>\n      <td>Achillea setacea</td>\n      <td>3</td>\n      <td>3</td>\n    </tr>\n    <tr>\n      <th>4</th>\n      <td>559</td>\n      <td>560</td>\n      <td>羽茅</td>\n      <td>Achnatherum sibiricum (L.) Keng ex Tzvelev</td>\n      <td>Probl. Ekol. Geobat. Bot. Geogr. Florist. 140 ...</td>\n      <td>羽茅</td>\n      <td>俗名：光颖芨芨草\\n异名：\\nAchnatherum sibirium  Achnather...</td>\n      <td>Avena sibirica (synonym)\\nStipa sibirica (syno...</td>\n      <td>光颖芨芨草(guāng yǐng jī jī cǎo)</td>\n      <td>界 Plantae-植物界(zhí wù jiè)\\n门 Angiospermae-被子植物...</td>\n      <td>黑龙江、内蒙古、河南、宁夏、青海、新疆、四川、云南、西藏</td>\n      <td>Chen Wenli(陈文俐)</td>\n      <td>生活型： 植株具鞘外分枝，基部有鳞芽；杆疏丛生；\\n株： 杆疏丛生，高0.5-1.5米，平滑...</td>\n      <td>国内产地： 东北、华北、西北及河南、西藏；\\n国外分布： 俄罗斯西伯利亚；\\n生境： 山坡草...</td>\n      <td>169</td>\n      <td>Achnatherum sibiricum</td>\n      <td>4</td>\n      <td>4</td>\n    </tr>\n    <tr>\n      <th>...</th>\n      <td>...</td>\n      <td>...</td>\n      <td>...</td>\n      <td>...</td>\n      <td>...</td>\n      <td>...</td>\n      <td>...</td>\n      <td>...</td>\n      <td>...</td>\n      <td>...</td>\n      <td>...</td>\n      <td>...</td>\n      <td>...</td>\n      <td>...</td>\n      <td>...</td>\n      <td>...</td>\n      <td>...</td>\n      <td>...</td>\n    </tr>\n    <tr>\n      <th>826</th>\n      <td>237</td>\n      <td>237</td>\n      <td>岩蕨</td>\n      <td>Woodsia ilvensis (L.) R. Br.</td>\n      <td>Prodr. 158(1810)</td>\n      <td>岩蕨</td>\n      <td>异名：\\nPolypodium ilvense  Acrostichum ilvense  ...</td>\n      <td>Acrostichum ilvense (synonym)\\nPolypodium ilve...</td>\n      <td>NaN</td>\n      <td>界 Plantae-植物界(zhí wù jiè)\\n门 Pteridophyta-蕨类植物...</td>\n      <td>黑龙江、吉林、辽宁、内蒙古、河北、北京、新疆</td>\n      <td>Sun Jiuqiong(孙玖琼)Zhang Xianchun(张宪春)Yan Yuehon...</td>\n      <td>株： 植株高12-17厘米；\\n茎： 根茎短而直立或斜生，与叶柄基部密被鳞片，鳞片宽披针形，...</td>\n      <td>国内产地： 黑龙江（带岭、黑河、小绥芬河）、吉林（安图）、河北（兴隆）、内蒙古（满洲里、额尔...</td>\n      <td>106</td>\n      <td>Woodsia ilvensis</td>\n      <td>826</td>\n      <td>826</td>\n    </tr>\n    <tr>\n      <th>827</th>\n      <td>591</td>\n      <td>592</td>\n      <td>苍耳</td>\n      <td>Xanthium strumarium L.</td>\n      <td>Sp. Pl. 2: 987 (1753)</td>\n      <td>苍耳</td>\n      <td>俗名：苍子、稀刺苍耳、菜耳、猪耳、野茄、胡苍子、痴头婆、抢子、青棘子、羌子裸子、绵苍浪子、苍...</td>\n      <td>Xanthium americanum (synonym)\\nXanthium italic...</td>\n      <td>粘头婆(zhān tóu pó)\\n虱马头(shī mǎ tóu)\\n苍耳子(cāng ěr...</td>\n      <td>界 Plantae-植物界(zhí wù jiè)\\n门 Angiospermae-被子植物...</td>\n      <td>中国各地广布</td>\n      <td>Gao Tiangang(高天刚)Zhang Guojin(张国进)</td>\n      <td>识别要点： 与模式变种的主要区别：茎较矮小，基部有分枝；具瘦果的成熟总苞较小，基部缩小，上端...</td>\n      <td>国内产地： 黑龙江、辽宁、内蒙古及河北（易县）；\\n国外分布： 日本及印度尼西亚；\\n生境：...</td>\n      <td>3215</td>\n      <td>Xanthium strumarium</td>\n      <td>827</td>\n      <td>827</td>\n    </tr>\n    <tr>\n      <th>828</th>\n      <td>772</td>\n      <td>773</td>\n      <td>青花椒</td>\n      <td>Zanthoxylum schinifolium Siebold &amp; Zucc.</td>\n      <td>Abh. Math.-Phys. Cl. Königl. Bayer. Akad. Wiss...</td>\n      <td>青花椒</td>\n      <td>俗名：野椒、天椒、崖椒、隔山消、山甲、狗椒、青椒、香椒子、王椒、小花椒、山花椒\\n异名：\\n...</td>\n      <td>Zanthoxylum mantschuricum (synonym)\\nFagara sc...</td>\n      <td>山花椒(shān huā jiāo)\\n小花椒(xiǎo huā jiāo)\\n王椒(wán...</td>\n      <td>界 Plantae-植物界(zhí wù jiè)\\n门 Angiospermae-被子植物...</td>\n      <td>辽宁、河北、山东、河南、安徽、江苏、浙江、江西、湖南、湖北、贵州、福建、台湾、广东、广西</td>\n      <td>Hou Yuantong(侯元同)</td>\n      <td>生活型： 灌木；\\n株： 高达2米；\\n茎： 茎枝无毛，基部具侧扁短刺；\\n叶： 奇数羽状复...</td>\n      <td>国内产地： 五岭以北、辽宁以南大多数省区，但不见于云南；\\n国外分布： 朝鲜、日本；\\n生境...</td>\n      <td>1023</td>\n      <td>Zanthoxylum schinifolium</td>\n      <td>828</td>\n      <td>828</td>\n    </tr>\n    <tr>\n      <th>829</th>\n      <td>626</td>\n      <td>627</td>\n      <td>菰</td>\n      <td>Zizania latifolia (Griseb.) Turcz. ex Stapf</td>\n      <td>Bull. Misc. Inform. Kew. 9: 385 (1909)</td>\n      <td>菰</td>\n      <td>俗名：高笋、菰笋、菰首、茭首、菰菜、茭白、野茭白、茭笋\\n异名：\\nHydropyrum l...</td>\n      <td>Hydropyrum latifolium (synonym)\\nZizania dahur...</td>\n      <td>茭儿菜(jiāo ér cài)\\n茭笋(jiāo sǔn)\\n茭白(jiāo bái)</td>\n      <td>界 Plantae-植物界(zhí wù jiè)\\n门 Angiospermae-被子植物...</td>\n      <td>吉林、辽宁、河北、山东、河南、陕西、安徽、江苏、浙江、江西、湖南、湖北、四川、贵州、云南、福...</td>\n      <td>Chen Wenli(陈文俐)</td>\n      <td>生活型： 多年生，具匍匐根茎；\\n根： 须根粗壮；\\n茎： 秆高1-2米，径约1厘米，多节，...</td>\n      <td>国内产地： 黑龙江、吉林、辽宁、内蒙古、河北、甘肃、陕西、四川、湖北、湖南、江西、福建、广东...</td>\n      <td>1000</td>\n      <td>Zizania latifolia</td>\n      <td>829</td>\n      <td>829</td>\n    </tr>\n    <tr>\n      <th>830</th>\n      <td>770</td>\n      <td>771</td>\n      <td>霸王</td>\n      <td>Zygophyllum xanthoxylum (Bunge) Maxim.</td>\n      <td>Fl. Tangut. 103. 1889.</td>\n      <td>霸王</td>\n      <td>异名：\\nZygophyllum xanthoxylon  Sarcozygium xant...</td>\n      <td>Zygophyllum ferganense (synonym)\\nSarcozygium ...</td>\n      <td>NaN</td>\n      <td>界 Plantae-植物界(zhí wù jiè)\\n门 Angiospermae-被子植物...</td>\n      <td>内蒙古、宁夏、甘肃、青海、新疆</td>\n      <td>Liu Bing(刘冰)</td>\n      <td>生活型： 灌木；\\n株： 高达1米；\\n枝： 枝之字形弯曲，开展，枝皮淡灰色，木质部黄色，顶...</td>\n      <td>国内产地： 内蒙古西部、甘肃西部、宁夏西部、新疆、青海；\\n国外分布： 蒙古；\\n生境： 荒...</td>\n      <td>909</td>\n      <td>Zygophyllum xanthoxylum</td>\n      <td>830</td>\n      <td>830</td>\n    </tr>\n  </tbody>\n</table>\n<p>831 rows × 18 columns</p>\n</div>"
     },
     "execution_count": 12,
     "metadata": {},
     "output_type": "execute_result"
    }
   ],
   "source": [],
   "metadata": {
    "collapsed": false,
    "ExecuteTime": {
     "end_time": "2023-06-04T17:11:30.445536800Z",
     "start_time": "2023-06-04T17:11:30.412777300Z"
    }
   }
  },
  {
   "cell_type": "code",
   "execution_count": 4,
   "outputs": [],
   "source": [
    "###对分类模型的结果进行解析，对每个类别进行分类统计\n",
    "import os\n",
    "import pandas as pd\n",
    "import re\n",
    "\n",
    "if __name__ == '__main__':\n",
    "    infopath = r\"E:\\论文\\草地植物分类\"\n",
    "    inpath = r\"E:\\论文\\草地植物分类\\model\\Resnetrs200.tf_in1k_256_831\\train_100epochs\\inference_valid\"\n",
    "    infer_df = pd.read_csv(os.path.join(inpath,\"resnetrs200.tf_in1k-256.csv\"))    #推理结果哦\n",
    "    info_df = pd.read_excel(os.path.join(infopath,\"植物信息表_model_id.xlsx\"))   #植物信息表\n",
    "    infer_df[\"PlantName\"] = infer_df[\"filename\"].apply(lambda x:x.split(\"/\")[0])     #从文件名中将植物名称解析出来\n",
    "    rows,cols = infer_df.shape\n",
    "    for i in range(rows):\n",
    "        id = info_df.loc[infer_df.loc[i,\"PlantName\"] == info_df[\"PlantName\"],\"Model_Index\"]    #获取该图像植物种类对应的模型index\n",
    "        infer_df.loc[i,\"Model_Index\"] = int(id)                #将模型index写入推理结果表\n",
    "        index = infer_df.loc[i,\"index\"]\n",
    "        idx = re.findall(r\"[0-9]{1,3}\",index)\n",
    "        infer_df.loc[i,\"top1_infer_index\"] = 1 if int(id) == int(idx[0]) else 0    #判断推理的类别index和model index是否一致，如果一致为1，否则为0\n",
    "        infer_df.loc[i,\"top5_infer_index\"] = 1 if str(int(id)) in idx else 0      #判断推理的结果是否有该物种在模型的index\n",
    "    with pd.ExcelWriter(os.path.join(inpath,\"resnetrs200_valid.xlsx\")) as writer:\n",
    "        infer_df.to_excel(writer)"
   ],
   "metadata": {
    "collapsed": false,
    "ExecuteTime": {
     "end_time": "2023-06-15T02:04:01.554364900Z",
     "start_time": "2023-06-15T02:03:58.605585600Z"
    }
   }
  },
  {
   "cell_type": "code",
   "execution_count": null,
   "outputs": [],
   "source": [],
   "metadata": {
    "collapsed": false
   }
  }
 ],
 "metadata": {
  "kernelspec": {
   "display_name": "Python 3",
   "language": "python",
   "name": "python3"
  },
  "language_info": {
   "codemirror_mode": {
    "name": "ipython",
    "version": 2
   },
   "file_extension": ".py",
   "mimetype": "text/x-python",
   "name": "python",
   "nbconvert_exporter": "python",
   "pygments_lexer": "ipython2",
   "version": "2.7.6"
  }
 },
 "nbformat": 4,
 "nbformat_minor": 0
}
