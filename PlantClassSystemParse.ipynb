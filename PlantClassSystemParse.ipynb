{
 "cells": [
  {
   "cell_type": "code",
   "execution_count": 3,
   "metadata": {
    "collapsed": true,
    "ExecuteTime": {
     "end_time": "2023-06-06T16:45:14.830556600Z",
     "start_time": "2023-06-06T16:45:13.588384400Z"
    }
   },
   "outputs": [],
   "source": [
    "#对分类表进行分解，将分类信息分开并进行统计\n",
    "import os\n",
    "import pandas as pd\n",
    "import matplotlib.pyplot as plt\n",
    "plt.rcParams[\"font.sans-serif\"] = [\"SimHei\"]    #用来正常显示中文标签\n",
    "plt.rcParams[\"axes.unicode_minus\"] = False    #用来正常显示中文标签\n",
    "if __name__ == '__main__':\n",
    "    table = r\"E:\\论文\\草地植物分类\\植物信息表_model_id.xlsx\"\n",
    "    df = pd.read_excel(table)\n",
    "    for i in range(df.shape[0]):\n",
    "        df.loc[i,\"界\"] = df.loc[i,\"分类系统\"].split(\"\\n\")[0].split(\" \")[1].split(\"(\")[0].split(\"-\")[1]\n",
    "        df.loc[i,\"门\"] = df.loc[i,\"分类系统\"].split(\"\\n\")[1].split(\" \")[1].split(\"(\")[0].split(\"-\")[1]\n",
    "        df.loc[i,\"纲\"] = df.loc[i,\"分类系统\"].split(\"\\n\")[2].split(\" \")[1].split(\"(\")[0].split(\"-\")[1]\n",
    "        df.loc[i,\"目\"] = df.loc[i,\"分类系统\"].split(\"\\n\")[3].split(\" \")[1].split(\"(\")[0].split(\"-\")[1]\n",
    "        df.loc[i,\"科\"] = df.loc[i,\"分类系统\"].split(\"\\n\")[4].split(\" \")[1].split(\"(\")[0].split(\"-\")[1]\n",
    "        df.loc[i,\"属\"] = df.loc[i,\"分类系统\"].split(\"\\n\")[5].split(\" \")[1].split(\"(\")[0].split(\"-\")[1]\n",
    "    with pd.ExcelWriter(r\"E:\\论文\\草地植物分类\\植物信息表_ClassSystem_ModelID.xlsx\") as writer:\n",
    "        df.to_excel(writer)"
   ]
  },
  {
   "cell_type": "code",
   "execution_count": 10,
   "outputs": [],
   "source": [
    "#将分类表和推理表进行匹配，方便后续分类进行统计\n",
    "import pandas as pd\n",
    "import matplotlib.pyplot as plt\n",
    "plt.rcParams[\"font.sans-serif\"] = [\"SimHei\"]    #用来正常显示中文标签\n",
    "plt.rcParams[\"axes.unicode_minus\"] = False    #用来正常显示中文标签\n",
    "if __name__ == '__main__':\n",
    "    table = r\"E:\\论文\\草地植物分类\\植物信息表_ClassSystem_ModelID.xlsx\"\n",
    "    infer_table = r\"E:\\论文\\草地植物分类\\model\\MobileNetV3_256_831\\train_100epochs\\inference_validdata\\mobilenetv3_valid.xlsx\"\n",
    "    df = pd.read_excel(table)\n",
    "    infer_df = pd.read_excel(infer_table)\n",
    "    infer_merge = pd.merge(infer_df,df,on=[\"PlantName\",\"PlantName\"])\n",
    "    with pd.ExcelWriter(r\"E:\\论文\\草地植物分类\\model\\MobileNetV3_256_831\\train_100epochs\\inference_validdata\\mobilenetv3_valid_classsystem.xlsx\") as writer:\n",
    "        infer_merge.to_excel(writer)"
   ],
   "metadata": {
    "collapsed": false,
    "ExecuteTime": {
     "end_time": "2023-06-15T05:49:31.197957700Z",
     "start_time": "2023-06-15T05:49:26.704556Z"
    }
   }
  },
  {
   "cell_type": "code",
   "execution_count": 11,
   "outputs": [
    {
     "name": "stderr",
     "output_type": "stream",
     "text": [
      "C:\\Users\\kbqin\\AppData\\Local\\Temp\\ipykernel_16876\\1983232625.py:10: FutureWarning: Indexing with multiple keys (implicitly converted to a tuple of keys) will be deprecated, use a list instead.\n",
      "  infer_df_sum = infer_df.groupby(by=[\"PlantName\"])[\"top1_infer_index\",\"top5_infer_index\"].sum()     #统计每个种类top1和top5预测正确数量\n"
     ]
    }
   ],
   "source": [
    "##统计每种、属、科的top1和top5分类精度\n",
    "#将分类表和推理表进行匹配，方便后续分类进行统计\n",
    "import pandas as pd\n",
    "import matplotlib.pyplot as plt\n",
    "plt.rcParams[\"font.sans-serif\"] = [\"SimHei\"]    #用来正常显示中文标签\n",
    "plt.rcParams[\"axes.unicode_minus\"] = False    #用来正常显示中文标签\n",
    "if __name__ == '__main__':\n",
    "    infer_table = r\"E:\\论文\\草地植物分类\\model\\MobileNetV3_256_831\\train_100epochs\\inference_validdata\\mobilenetv3_valid_classsystem.xlsx\"\n",
    "    infer_df = pd.read_excel(infer_table)\n",
    "    infer_df_sum = infer_df.groupby(by=[\"PlantName\"])[\"top1_infer_index\",\"top5_infer_index\"].sum()     #统计每个种类top1和top5预测正确数量\n",
    "    infer_df_sum.rename(columns = {'top1_infer_index' : 'top1_correct_count', 'top5_infer_index' : 'top5_correct_count'}, inplace = True)\n",
    "    infer_df_count = infer_df.groupby(by=[\"PlantName\"])[\"top1_infer_index\"].count()   #统计每个物种的图像数量\n",
    "    infer_plant_stastic = pd.concat([infer_df_count,infer_df_sum],axis=1)\n",
    "    infer_plant_stastic.rename(columns={\"top1_infer_index\":\"valid_iamge_count\"})\n",
    "    infer_plant_stastic[\"top1_correct_percent\"] = infer_plant_stastic[\"top1_correct_count\"] / infer_plant_stastic[\"top1_infer_index\"] * 100    #计算每个物种top1正确率\n",
    "    infer_plant_stastic[\"top5_correct_percent\"] = infer_plant_stastic[\"top5_correct_count\"] / infer_plant_stastic[\"top1_infer_index\"] * 100    #计算每个物种top5正确率\n",
    "    with pd.ExcelWriter(r\"E:\\论文\\草地植物分类\\model\\MobileNetV3_256_831\\train_100epochs\\inference_validdata\\mobilenetv3_valid_ByPlantName_summary.xlsx\") as writer:\n",
    "        infer_plant_stastic.to_excel(writer)"
   ],
   "metadata": {
    "collapsed": false,
    "ExecuteTime": {
     "end_time": "2023-06-15T05:51:34.251422400Z",
     "start_time": "2023-06-15T05:51:31.943272500Z"
    }
   }
  },
  {
   "cell_type": "code",
   "execution_count": 12,
   "outputs": [
    {
     "name": "stderr",
     "output_type": "stream",
     "text": [
      "C:\\Users\\kbqin\\AppData\\Local\\Temp\\ipykernel_16876\\3652228417.py:11: FutureWarning: Indexing with multiple keys (implicitly converted to a tuple of keys) will be deprecated, use a list instead.\n",
      "  infer_df_sum = infer_df.groupby(by=[\"科\"])[\"top1_infer_index\",\"top5_infer_index\"].sum()     #统计每个科top1和top5预测正确数量\n"
     ]
    }
   ],
   "source": [
    "##统计科的top1和top5分类精度\n",
    "\n",
    "import pandas as pd\n",
    "import matplotlib.pyplot as plt\n",
    "\n",
    "if __name__ == '__main__':\n",
    "    infer_table = r\"E:\\论文\\草地植物分类\\model\\MobileNetV3_256_831\\train_100epochs\\inference_validdata\\mobilenetv3_valid_classsystem.xlsx\"\n",
    "    infer_df = pd.read_excel(infer_table)\n",
    "    family_species_count = infer_df.groupby(by=[\"科\"])[\"PlantName\"].nunique()\n",
    "    family_species_count.rename(\"species_count_infamily\")\n",
    "    infer_df_sum = infer_df.groupby(by=[\"科\"])[\"top1_infer_index\",\"top5_infer_index\"].sum()     #统计每个科top1和top5预测正确数量\n",
    "    infer_df_sum.rename(columns = {'top1_infer_index' : 'top1_correct_count', 'top5_infer_index' : 'top5_correct_count'}, inplace = True)\n",
    "    infer_df_count = infer_df.groupby(by=[\"科\"])[\"top1_infer_index\"].count()   #统计科物种的图像数量\n",
    "    infer_df_count.rename(\"species_image_count\")\n",
    "    infer_plant_stastic = pd.concat([family_species_count,infer_df_count,infer_df_sum],axis=1)\n",
    "    infer_plant_stastic[\"top1_correct_percent\"] = infer_plant_stastic[\"top1_correct_count\"] / infer_plant_stastic[\"top1_infer_index\"] * 100    #计算每个物种top1正确率\n",
    "    infer_plant_stastic[\"top5_correct_percent\"] = infer_plant_stastic[\"top5_correct_count\"] / infer_plant_stastic[\"top1_infer_index\"] * 100    #计算每个物种top5正确率\n",
    "    with pd.ExcelWriter(r\"E:\\论文\\草地植物分类\\model\\MobileNetV3_256_831\\train_100epochs\\inference_validdata\\mobilenetv3_valid_ByFamily_summary.xlsx\") as writer:\n",
    "        infer_plant_stastic.to_excel(writer)"
   ],
   "metadata": {
    "collapsed": false,
    "ExecuteTime": {
     "end_time": "2023-06-15T05:56:37.756450600Z",
     "start_time": "2023-06-15T05:56:35.464798300Z"
    }
   }
  },
  {
   "cell_type": "code",
   "execution_count": 79,
   "outputs": [],
   "source": [
    "a = infer_df.groupby(by=[\"科\"])[\"PlantName\"].nunique()"
   ],
   "metadata": {
    "collapsed": false,
    "ExecuteTime": {
     "end_time": "2023-06-07T14:14:54.356192500Z",
     "start_time": "2023-06-07T14:14:54.324490900Z"
    }
   }
  },
  {
   "cell_type": "code",
   "execution_count": 86,
   "outputs": [
    {
     "data": {
      "text/plain": "科\n五福花科     2\n亚麻科      3\n伞形科     23\n兰科       8\n冷蕨科      1\n        ..\n鸢尾科     12\n鸭跖草科     1\n麻黄科      5\n鼠李科      1\n龙胆科     11\nName: PlantName, Length: 88, dtype: int64"
     },
     "execution_count": 86,
     "metadata": {},
     "output_type": "execute_result"
    }
   ],
   "source": [
    "family_species_count"
   ],
   "metadata": {
    "collapsed": false,
    "ExecuteTime": {
     "end_time": "2023-06-07T14:25:26.759803400Z",
     "start_time": "2023-06-07T14:25:26.662751800Z"
    }
   }
  },
  {
   "cell_type": "code",
   "execution_count": 61,
   "outputs": [],
   "source": [
    "#对分类表进行分解，将分类信息分开并进行统计\n",
    "import os\n",
    "import pandas as pd\n",
    "import matplotlib.pyplot as plt\n",
    "plt.rcParams[\"font.sans-serif\"] = [\"SimHei\"]    #用来正常显示中文标签\n",
    "plt.rcParams[\"axes.unicode_minus\"] = False    #用来正常显示中文标签\n",
    "if __name__ == '__main__':\n",
    "    table = r\"E:\\论文\\草地植物分类\\植物信息表_new(831).xlsx\"\n",
    "    df = pd.read_excel(table)\n",
    "    for i in range(df.shape[0]):\n",
    "        df.loc[i,\"界\"] = df.loc[i,\"分类系统\"].split(\"\\n\")[0].split(\" \")[1].split(\"(\")[0].split(\"-\")[1]\n",
    "        df.loc[i,\"门\"] = df.loc[i,\"分类系统\"].split(\"\\n\")[1].split(\" \")[1].split(\"(\")[0].split(\"-\")[1]\n",
    "        df.loc[i,\"纲\"] = df.loc[i,\"分类系统\"].split(\"\\n\")[2].split(\" \")[1].split(\"(\")[0].split(\"-\")[1]\n",
    "        df.loc[i,\"目\"] = df.loc[i,\"分类系统\"].split(\"\\n\")[3].split(\" \")[1].split(\"(\")[0].split(\"-\")[1]\n",
    "        df.loc[i,\"科\"] = df.loc[i,\"分类系统\"].split(\"\\n\")[4].split(\" \")[1].split(\"(\")[0].split(\"-\")[1]\n",
    "        df.loc[i,\"属\"] = df.loc[i,\"分类系统\"].split(\"\\n\")[5].split(\" \")[1].split(\"(\")[0].split(\"-\")[1]"
   ],
   "metadata": {
    "collapsed": false,
    "ExecuteTime": {
     "end_time": "2023-06-07T12:55:07.189276800Z",
     "start_time": "2023-06-07T12:55:06.603674600Z"
    }
   }
  },
  {
   "cell_type": "code",
   "execution_count": 70,
   "outputs": [
    {
     "data": {
      "text/plain": "科\n五福花科     2\n亚麻科      3\n伞形科     23\n兰科       8\n冷蕨科      1\n        ..\n鸢尾科     12\n鸭跖草科     1\n麻黄科      5\n鼠李科      1\n龙胆科     11\nName: PlantName, Length: 88, dtype: int64"
     },
     "execution_count": 70,
     "metadata": {},
     "output_type": "execute_result"
    }
   ],
   "source": [
    "df.groupby(by=[\"科\"])[\"PlantName\"].count()"
   ],
   "metadata": {
    "collapsed": false,
    "ExecuteTime": {
     "end_time": "2023-06-07T13:03:01.692113300Z",
     "start_time": "2023-06-07T13:03:01.643655800Z"
    }
   }
  },
  {
   "cell_type": "code",
   "execution_count": null,
   "outputs": [],
   "source": [],
   "metadata": {
    "collapsed": false
   }
  }
 ],
 "metadata": {
  "kernelspec": {
   "display_name": "Python 3",
   "language": "python",
   "name": "python3"
  },
  "language_info": {
   "codemirror_mode": {
    "name": "ipython",
    "version": 2
   },
   "file_extension": ".py",
   "mimetype": "text/x-python",
   "name": "python",
   "nbconvert_exporter": "python",
   "pygments_lexer": "ipython2",
   "version": "2.7.6"
  }
 },
 "nbformat": 4,
 "nbformat_minor": 0
}
