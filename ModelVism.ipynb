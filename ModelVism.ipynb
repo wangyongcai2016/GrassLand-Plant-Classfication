{
 "cells": [
  {
   "cell_type": "code",
   "execution_count": 1,
   "metadata": {
    "collapsed": true
   },
   "outputs": [
    {
     "ename": "ModuleNotFoundError",
     "evalue": "No module named 'pycore.tikzeng'",
     "output_type": "error",
     "traceback": [
      "\u001B[1;31m---------------------------------------------------------------------------\u001B[0m",
      "\u001B[1;31mModuleNotFoundError\u001B[0m                       Traceback (most recent call last)",
      "Cell \u001B[1;32mIn [1], line 3\u001B[0m\n\u001B[0;32m      1\u001B[0m \u001B[38;5;28;01mimport\u001B[39;00m \u001B[38;5;21;01msys\u001B[39;00m\n\u001B[0;32m      2\u001B[0m sys\u001B[38;5;241m.\u001B[39mpath\u001B[38;5;241m.\u001B[39mappend(\u001B[38;5;124m'\u001B[39m\u001B[38;5;124m../\u001B[39m\u001B[38;5;124m'\u001B[39m)\n\u001B[1;32m----> 3\u001B[0m \u001B[38;5;28;01mfrom\u001B[39;00m \u001B[38;5;21;01mpycore\u001B[39;00m\u001B[38;5;21;01m.\u001B[39;00m\u001B[38;5;21;01mtikzeng\u001B[39;00m \u001B[38;5;28;01mimport\u001B[39;00m \u001B[38;5;241m*\u001B[39m\n\u001B[0;32m      4\u001B[0m \u001B[38;5;28;01mfrom\u001B[39;00m \u001B[38;5;21;01mpycore\u001B[39;00m\u001B[38;5;21;01m.\u001B[39;00m\u001B[38;5;21;01mblocks\u001B[39;00m  \u001B[38;5;28;01mimport\u001B[39;00m \u001B[38;5;241m*\u001B[39m\n\u001B[0;32m      6\u001B[0m arch \u001B[38;5;241m=\u001B[39m [\n\u001B[0;32m      7\u001B[0m     \u001B[38;5;66;03m# 开头\u001B[39;00m\n\u001B[0;32m      8\u001B[0m     to_head(\u001B[38;5;124m'\u001B[39m\u001B[38;5;124m..\u001B[39m\u001B[38;5;124m'\u001B[39m),\n\u001B[1;32m   (...)\u001B[0m\n\u001B[0;32m     41\u001B[0m     to_end()\n\u001B[0;32m     42\u001B[0m     ]\n",
      "\u001B[1;31mModuleNotFoundError\u001B[0m: No module named 'pycore.tikzeng'"
     ]
    }
   ],
   "source": [
    "  import sys\n",
    "  sys.path.append('../')\n",
    "  from pycore.tikzeng import *\n",
    "  from pycore.blocks  import *\n",
    "\n",
    "  arch = [\n",
    "      # 开头\n",
    "      to_head('..'),\n",
    "      to_cor(),\n",
    "      to_begin(),\n",
    "      #　添加输入层\n",
    "      to_input( '../examples/fcn8s/cats.jpg' ),\n",
    "\n",
    "      #  添加block1包含一个二重卷积接relu\n",
    "      to_ConvConvRelu( name='ccr_b1', s_filer=500, n_filer=(64,64), offset=\"(0,0,0)\", to=\"(0,0,0)\", width=(2,2), height=40, depth=40  ),\n",
    "      to_Pool(name=\"pool_b1\", offset=\"(0,0,0)\", to=\"(ccr_b1-east)\", width=1, height=32, depth=32, opacity=0.5),\n",
    "      #  添加三个block，每个包含三个二卷积加一池化\n",
    "      *block_2ConvPool( name='b2', botton='pool_b1', top='pool_b2', s_filer=256, n_filer=128, offset=\"(1,0,0)\", size=(32,32,3.5), opacity=0.5 ),\n",
    "      *block_2ConvPool( name='b3', botton='pool_b2', top='pool_b3', s_filer=128, n_filer=256, offset=\"(1,0,0)\", size=(25,25,4.5), opacity=0.5 ),\n",
    "      *block_2ConvPool( name='b4', botton='pool_b3', top='pool_b4', s_filer=64,  n_filer=512, offset=\"(1,0,0)\", size=(16,16,5.5), opacity=0.5 ),\n",
    "\n",
    "      #  瓶颈，为block5\n",
    "      to_ConvConvRelu( name='ccr_b5', s_filer=32, n_filer=(1024,1024), offset=\"(2,0,0)\", to=\"(pool_b4-east)\", width=(8,8), height=8, depth=8, caption=\"Bottleneck\"  ),\n",
    "      to_connection( \"pool_b4\", \"ccr_b5\"),\n",
    "\n",
    "      #　解码器\n",
    "      #  多个block，每个为unconv\n",
    "      *block_Unconv( name=\"b6\", botton=\"ccr_b5\", top='end_b6', s_filer=64,  n_filer=512, offset=\"(2.1,0,0)\", size=(16,16,5.0), opacity=0.5 ),\n",
    "      to_skip( of='ccr_b4', to='ccr_res_b6', pos=1.25),\n",
    "      *block_Unconv( name=\"b7\", botton=\"end_b6\", top='end_b7', s_filer=128, n_filer=256, offset=\"(2.1,0,0)\", size=(25,25,4.5), opacity=0.5 ),\n",
    "      to_skip( of='ccr_b3', to='ccr_res_b7', pos=1.25),\n",
    "      *block_Unconv( name=\"b8\", botton=\"end_b7\", top='end_b8', s_filer=256, n_filer=128, offset=\"(2.1,0,0)\", size=(32,32,3.5), opacity=0.5 ),\n",
    "      to_skip( of='ccr_b2', to='ccr_res_b8', pos=1.25),\n",
    "\n",
    "      *block_Unconv( name=\"b9\", botton=\"end_b8\", top='end_b9', s_filer=512, n_filer=64,  offset=\"(2.1,0,0)\", size=(40,40,2.5), opacity=0.5 ),\n",
    "      to_skip( of='ccr_b1', to='ccr_res_b9', pos=1.25),\n",
    "\n",
    "      to_ConvSoftMax( name=\"soft1\", s_filer=512, offset=\"(0.75,0,0)\", to=\"(end_b9-east)\", width=1, height=40, depth=40, caption=\"SOFT\" ),\n",
    "      to_connection( \"end_b9\", \"soft1\"),\n",
    "      #  结束\n",
    "      to_end()\n",
    "      ]\n",
    "\n",
    "\n",
    "  def main():\n",
    "      namefile = str(sys.argv[0]).split('.')[0]\n",
    "      to_generate(arch, namefile + '.tex' )\n",
    "\n",
    "  if __name__ == '__main__':\n",
    "      main()\n"
   ]
  },
  {
   "cell_type": "code",
   "execution_count": null,
   "outputs": [],
   "source": [],
   "metadata": {
    "collapsed": false
   }
  }
 ],
 "metadata": {
  "kernelspec": {
   "display_name": "Python 3",
   "language": "python",
   "name": "python3"
  },
  "language_info": {
   "codemirror_mode": {
    "name": "ipython",
    "version": 2
   },
   "file_extension": ".py",
   "mimetype": "text/x-python",
   "name": "python",
   "nbconvert_exporter": "python",
   "pygments_lexer": "ipython2",
   "version": "2.7.6"
  }
 },
 "nbformat": 4,
 "nbformat_minor": 0
}
