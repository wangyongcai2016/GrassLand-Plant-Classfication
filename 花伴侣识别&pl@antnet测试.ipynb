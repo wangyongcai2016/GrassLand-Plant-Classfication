{
 "cells": [
  {
   "cell_type": "code",
   "execution_count": 49,
   "outputs": [],
   "source": [
    "###利用selenium上传图像至花伴侣，并完成识别\n",
    "import os\n",
    "from bs4 import BeautifulSoup\n",
    "import requests\n",
    "import selenium\n",
    "from selenium import webdriver\n",
    "from selenium.webdriver.common.by import By\n",
    "from selenium.webdriver.common.action_chains import ActionChains\n",
    "from selenium.webdriver.common.keys import Keys\n",
    "import selenium.webdriver.support.ui as ui\n",
    "from selenium.webdriver.chrome.options import Options\n",
    "from selenium.webdriver.support.ui import WebDriverWait\n",
    "from selenium.webdriver.support import expected_conditions as EC\n",
    "import win32gui\n",
    "import win32con\n",
    "from urllib.request import urlopen\n",
    "from urllib.error import URLError\n",
    "from time import sleep\n",
    "import re\n",
    "import pandas as pd\n",
    "import pyautogui\n",
    "import time\n",
    "import pickle\n",
    "import random\n",
    "import glob\n",
    "import pandas as pd\n",
    "\n",
    "def uploads(filePath, browser_type=\"Chrome\"):\n",
    "    if browser_type == \"Chrome\":\n",
    "        title = \"打开\"\n",
    "    else:\n",
    "        title = \"文件上传\"\n",
    "    # 32770‐ComboBoxEx32 ‐ComboBox ‐Edit\n",
    "    dialog = win32gui.FindWindow(\"#32770\", title)  # 一级窗口 ‘打开窗口’\n",
    "    # 二级\n",
    "    ComboBoxEx32 = win32gui.FindWindowEx(dialog, 0, \"ComboBoxEx32\", None)\n",
    "    # 三级\n",
    "    ComboBox = win32gui.FindWindowEx(ComboBoxEx32, 0, \"ComboBox\", None)\n",
    "    # 四级\n",
    "    Edit = win32gui.FindWindowEx(ComboBox, 0, \"Edit\", None)\n",
    "    # 32770‐Button\n",
    "    button = win32gui.FindWindowEx(dialog, 0, \"Button\", None)  # 四级\n",
    "    # 往文件名编辑框中输入文件路径\n",
    "    # 上传操作\n",
    "    win32gui.SendMessage(Edit, win32con.WM_SETTEXT, None, filePath)\n",
    "    # 点击打开按钮\n",
    "    win32gui.SendMessage(dialog, win32con.WM_COMMAND, 1, button)\n",
    "    # 文件路径\n",
    "\n",
    "if __name__ == '__main__':\n",
    "    basepath = r\"H:\\test_rename\"\n",
    "    com = r\"H:\\测试集花伴侣测试.xlsx\"\n",
    "    base_url = \"https://www.iplant.cn/\"\n",
    "    driver = webdriver.Chrome()\n",
    "\n",
    "    driver.implicitly_wait(1)\n",
    "    driver.maximize_window()\n",
    "    driver.get(base_url)\n",
    "    #upload_input = WebDriverWait(driver, 10).until(EC.presence_of_element_located((By.CLASS_NAME, \"upfilediv\")))\n",
    "    #driver.find_element(By.CLASS_NAME,\"upfilediv\").click()\n",
    "    #upload_input.send_keys(image_path)\n",
    "    data = pd.read_excel(com)\n",
    "    planf_list = data[\"Filename\"].to_list()\n",
    "    df = pd.DataFrame(columns=[\"Filename\",\"PlantName\",\"Result_url\",\"top1_classname\",\"top1_prob\",\"top5_classname\",\"top5_prob\"])\n",
    "    rest = [f for f in glob.glob(os.path.join(basepath,\"*\",\"*.jpg\")) if f not in planf_list]\n",
    "    for i,f in enumerate(rest):\n",
    "        if f in planf_list:\n",
    "            continue\n",
    "        plantname = os.path.basename(f).split(\"_\")[0]\n",
    "        df.loc[i,\"Filename\"] = f\n",
    "        df.loc[i,\"PlantName\"] = plantname\n",
    "        try:\n",
    "            el_file = driver.find_element(By.CLASS_NAME,\"upfilediv\")\n",
    "            ActionChains(driver).move_to_element(el_file).click().perform()\n",
    "            time.sleep(1)\n",
    "            uploads(filePath=f)\n",
    "            sleep(1)\n",
    "            driver.refresh()\n",
    "            current_url = driver.current_url\n",
    "            df.loc[i,\"Result_url\"] = current_url\n",
    "            driver.get(current_url)\n",
    "            top = driver.find_elements(By.ID,\"stugroup\")\n",
    "            category_info = top[0].text.split(\"\\n\")\n",
    "            df.loc[i,\"top1_classname\"] = category_info[0]\n",
    "            df.loc[i,\"top1_prob\"] = category_info[1]\n",
    "            df.loc[i,\"top5_classname\"] = [category_info[j] for j in [0,2,4,6,8]]\n",
    "            df.loc[i,\"top5_prob\"] = [category_info[j] for j in [1,3,5,7,9]]\n",
    "        except Exception as e:\n",
    "            print(e)"
   ],
   "metadata": {
    "collapsed": false
   }
  },
  {
   "cell_type": "code",
   "execution_count": 48,
   "outputs": [],
   "source": [
    "with pd.ExcelWriter(r\"H:\\测试集花伴侣测试1.xlsx\") as writer:\n",
    "    df.to_excel(writer)"
   ],
   "metadata": {
    "collapsed": false
   }
  },
  {
   "cell_type": "code",
   "execution_count": 17,
   "outputs": [
    {
     "data": {
      "text/plain": "                                               Filename            PlantName  \\\n0     H:\\test_rename\\Androsace umbellata\\Androsace u...  Androsace umbellata   \n1     H:\\test_rename\\Androsace umbellata\\Androsace u...  Androsace umbellata   \n2     H:\\test_rename\\Androsace umbellata\\Androsace u...  Androsace umbellata   \n3     H:\\test_rename\\Androsace umbellata\\Androsace u...  Androsace umbellata   \n4     H:\\test_rename\\Androsace umbellata\\Androsace u...  Androsace umbellata   \n...                                                 ...                  ...   \n2588  H:\\test_rename\\Hippuris vulgaris\\Hippuris vulg...    Hippuris vulgaris   \n2589  H:\\test_rename\\Hordeum jubatum\\Hordeum jubatum...      Hordeum jubatum   \n2590  H:\\test_rename\\Hordeum jubatum\\Hordeum jubatum...      Hordeum jubatum   \n2591  H:\\test_rename\\Hordeum jubatum\\Hordeum jubatum...      Hordeum jubatum   \n2592  H:\\test_rename\\Hordeum jubatum\\Hordeum jubatum...      Hordeum jubatum   \n\n                                 Result_url       top1_classname top1_prob  \\\n0     https://www.iplant.cn/stuinfo/2364499  Androsace umbellata    95.23%   \n1     https://www.iplant.cn/stuinfo/2364500  Androsace umbellata    95.55%   \n2     https://www.iplant.cn/stuinfo/2364501  Androsace umbellata    19.47%   \n3     https://www.iplant.cn/stuinfo/2364502  Androsace umbellata    96.30%   \n4     https://www.iplant.cn/stuinfo/2364503  Androsace umbellata    99.54%   \n...                                     ...                  ...       ...   \n2588                                    NaN                  NaN       NaN   \n2589                                    NaN                  NaN       NaN   \n2590                                    NaN                  NaN       NaN   \n2591                                    NaN                  NaN       NaN   \n2592                                    NaN                  NaN       NaN   \n\n                                         top5_classname  \\\n0     [Androsace umbellata, Androsace septentrionali...   \n1     [Androsace umbellata, Androsace maxima, Andros...   \n2     [Androsace umbellata, Marchantia polymorpha, P...   \n3     [Androsace umbellata, Primula merrilliana, And...   \n4     [Androsace umbellata, Androsace maxima, Primul...   \n...                                                 ...   \n2588                                                NaN   \n2589                                                NaN   \n2590                                                NaN   \n2591                                                NaN   \n2592                                                NaN   \n\n                                 top5_prob  \n0     [95.23%, 1.07%, 0.81%, 0.64%, 0.58%]  \n1     [95.55%, 1.92%, 1.21%, 0.19%, 0.19%]  \n2     [19.47%, 7.80%, 2.49%, 2.11%, 2.10%]  \n3     [96.30%, 0.50%, 0.40%, 0.30%, 0.21%]  \n4     [99.54%, 0.18%, 0.08%, 0.03%, 0.02%]  \n...                                    ...  \n2588                                   NaN  \n2589                                   NaN  \n2590                                   NaN  \n2591                                   NaN  \n2592                                   NaN  \n\n[2593 rows x 7 columns]",
      "text/html": "<div>\n<style scoped>\n    .dataframe tbody tr th:only-of-type {\n        vertical-align: middle;\n    }\n\n    .dataframe tbody tr th {\n        vertical-align: top;\n    }\n\n    .dataframe thead th {\n        text-align: right;\n    }\n</style>\n<table border=\"1\" class=\"dataframe\">\n  <thead>\n    <tr style=\"text-align: right;\">\n      <th></th>\n      <th>Filename</th>\n      <th>PlantName</th>\n      <th>Result_url</th>\n      <th>top1_classname</th>\n      <th>top1_prob</th>\n      <th>top5_classname</th>\n      <th>top5_prob</th>\n    </tr>\n  </thead>\n  <tbody>\n    <tr>\n      <th>0</th>\n      <td>H:\\test_rename\\Androsace umbellata\\Androsace u...</td>\n      <td>Androsace umbellata</td>\n      <td>https://www.iplant.cn/stuinfo/2364499</td>\n      <td>Androsace umbellata</td>\n      <td>95.23%</td>\n      <td>[Androsace umbellata, Androsace septentrionali...</td>\n      <td>[95.23%, 1.07%, 0.81%, 0.64%, 0.58%]</td>\n    </tr>\n    <tr>\n      <th>1</th>\n      <td>H:\\test_rename\\Androsace umbellata\\Androsace u...</td>\n      <td>Androsace umbellata</td>\n      <td>https://www.iplant.cn/stuinfo/2364500</td>\n      <td>Androsace umbellata</td>\n      <td>95.55%</td>\n      <td>[Androsace umbellata, Androsace maxima, Andros...</td>\n      <td>[95.55%, 1.92%, 1.21%, 0.19%, 0.19%]</td>\n    </tr>\n    <tr>\n      <th>2</th>\n      <td>H:\\test_rename\\Androsace umbellata\\Androsace u...</td>\n      <td>Androsace umbellata</td>\n      <td>https://www.iplant.cn/stuinfo/2364501</td>\n      <td>Androsace umbellata</td>\n      <td>19.47%</td>\n      <td>[Androsace umbellata, Marchantia polymorpha, P...</td>\n      <td>[19.47%, 7.80%, 2.49%, 2.11%, 2.10%]</td>\n    </tr>\n    <tr>\n      <th>3</th>\n      <td>H:\\test_rename\\Androsace umbellata\\Androsace u...</td>\n      <td>Androsace umbellata</td>\n      <td>https://www.iplant.cn/stuinfo/2364502</td>\n      <td>Androsace umbellata</td>\n      <td>96.30%</td>\n      <td>[Androsace umbellata, Primula merrilliana, And...</td>\n      <td>[96.30%, 0.50%, 0.40%, 0.30%, 0.21%]</td>\n    </tr>\n    <tr>\n      <th>4</th>\n      <td>H:\\test_rename\\Androsace umbellata\\Androsace u...</td>\n      <td>Androsace umbellata</td>\n      <td>https://www.iplant.cn/stuinfo/2364503</td>\n      <td>Androsace umbellata</td>\n      <td>99.54%</td>\n      <td>[Androsace umbellata, Androsace maxima, Primul...</td>\n      <td>[99.54%, 0.18%, 0.08%, 0.03%, 0.02%]</td>\n    </tr>\n    <tr>\n      <th>...</th>\n      <td>...</td>\n      <td>...</td>\n      <td>...</td>\n      <td>...</td>\n      <td>...</td>\n      <td>...</td>\n      <td>...</td>\n    </tr>\n    <tr>\n      <th>2588</th>\n      <td>H:\\test_rename\\Hippuris vulgaris\\Hippuris vulg...</td>\n      <td>Hippuris vulgaris</td>\n      <td>NaN</td>\n      <td>NaN</td>\n      <td>NaN</td>\n      <td>NaN</td>\n      <td>NaN</td>\n    </tr>\n    <tr>\n      <th>2589</th>\n      <td>H:\\test_rename\\Hordeum jubatum\\Hordeum jubatum...</td>\n      <td>Hordeum jubatum</td>\n      <td>NaN</td>\n      <td>NaN</td>\n      <td>NaN</td>\n      <td>NaN</td>\n      <td>NaN</td>\n    </tr>\n    <tr>\n      <th>2590</th>\n      <td>H:\\test_rename\\Hordeum jubatum\\Hordeum jubatum...</td>\n      <td>Hordeum jubatum</td>\n      <td>NaN</td>\n      <td>NaN</td>\n      <td>NaN</td>\n      <td>NaN</td>\n      <td>NaN</td>\n    </tr>\n    <tr>\n      <th>2591</th>\n      <td>H:\\test_rename\\Hordeum jubatum\\Hordeum jubatum...</td>\n      <td>Hordeum jubatum</td>\n      <td>NaN</td>\n      <td>NaN</td>\n      <td>NaN</td>\n      <td>NaN</td>\n      <td>NaN</td>\n    </tr>\n    <tr>\n      <th>2592</th>\n      <td>H:\\test_rename\\Hordeum jubatum\\Hordeum jubatum...</td>\n      <td>Hordeum jubatum</td>\n      <td>NaN</td>\n      <td>NaN</td>\n      <td>NaN</td>\n      <td>NaN</td>\n      <td>NaN</td>\n    </tr>\n  </tbody>\n</table>\n<p>2593 rows × 7 columns</p>\n</div>"
     },
     "execution_count": 17,
     "metadata": {},
     "output_type": "execute_result"
    }
   ],
   "source": [],
   "metadata": {
    "collapsed": false
   }
  },
  {
   "cell_type": "code",
   "execution_count": 98,
   "outputs": [
    {
     "name": "stdout",
     "output_type": "stream",
     "text": [
      "Message: no such window: target window already closed\n",
      "from unknown error: web view not found\n",
      "  (Session info: chrome=114.0.5735.110)\n",
      "Stacktrace:\n",
      "Backtrace:\n",
      "\tGetHandleVerifier [0x00F6A813+48355]\n",
      "\t(No symbol) [0x00EFC4B1]\n",
      "\t(No symbol) [0x00E05358]\n",
      "\t(No symbol) [0x00DED293]\n",
      "\t(No symbol) [0x00E4E37B]\n",
      "\t(No symbol) [0x00E5C473]\n",
      "\t(No symbol) [0x00E4A536]\n",
      "\t(No symbol) [0x00E282DC]\n",
      "\t(No symbol) [0x00E293DD]\n",
      "\tGetHandleVerifier [0x011CAABD+2539405]\n",
      "\tGetHandleVerifier [0x0120A78F+2800735]\n",
      "\tGetHandleVerifier [0x0120456C+2775612]\n",
      "\tGetHandleVerifier [0x00FF51E0+616112]\n",
      "\t(No symbol) [0x00F05F8C]\n",
      "\t(No symbol) [0x00F02328]\n",
      "\t(No symbol) [0x00F0240B]\n",
      "\t(No symbol) [0x00EF4FF7]\n",
      "\tBaseThreadInitThunk [0x75AA00F9+25]\n",
      "\tRtlGetAppContainerNamedObjectPath [0x772D7BBE+286]\n",
      "\tRtlGetAppContainerNamedObjectPath [0x772D7B8E+238]\n",
      "\n"
     ]
    },
    {
     "ename": "NoSuchWindowException",
     "evalue": "Message: no such window: target window already closed\nfrom unknown error: web view not found\n  (Session info: chrome=114.0.5735.110)\nStacktrace:\nBacktrace:\n\tGetHandleVerifier [0x00F6A813+48355]\n\t(No symbol) [0x00EFC4B1]\n\t(No symbol) [0x00E05358]\n\t(No symbol) [0x00DED293]\n\t(No symbol) [0x00E4E37B]\n\t(No symbol) [0x00E5C473]\n\t(No symbol) [0x00E4A536]\n\t(No symbol) [0x00E282DC]\n\t(No symbol) [0x00E293DD]\n\tGetHandleVerifier [0x011CAABD+2539405]\n\tGetHandleVerifier [0x0120A78F+2800735]\n\tGetHandleVerifier [0x0120456C+2775612]\n\tGetHandleVerifier [0x00FF51E0+616112]\n\t(No symbol) [0x00F05F8C]\n\t(No symbol) [0x00F02328]\n\t(No symbol) [0x00F0240B]\n\t(No symbol) [0x00EF4FF7]\n\tBaseThreadInitThunk [0x75AA00F9+25]\n\tRtlGetAppContainerNamedObjectPath [0x772D7BBE+286]\n\tRtlGetAppContainerNamedObjectPath [0x772D7B8E+238]\n",
     "output_type": "error",
     "traceback": [
      "\u001B[1;31m---------------------------------------------------------------------------\u001B[0m",
      "\u001B[1;31mNoSuchWindowException\u001B[0m                     Traceback (most recent call last)",
      "Cell \u001B[1;32mIn[98], line 89\u001B[0m\n\u001B[0;32m     87\u001B[0m     \u001B[38;5;28mprint\u001B[39m(e)\n\u001B[0;32m     88\u001B[0m \u001B[38;5;28;01mfinally\u001B[39;00m:\n\u001B[1;32m---> 89\u001B[0m     \u001B[43mdriver\u001B[49m\u001B[38;5;241;43m.\u001B[39;49m\u001B[43mrefresh\u001B[49m\u001B[43m(\u001B[49m\u001B[43m)\u001B[49m\n",
      "File \u001B[1;32mC:\\JupyterLab\\JupyterLabDesktopAppServer\\lib\\site-packages\\selenium\\webdriver\\remote\\webdriver.py:663\u001B[0m, in \u001B[0;36mWebDriver.refresh\u001B[1;34m(self)\u001B[0m\n\u001B[0;32m    655\u001B[0m \u001B[38;5;28;01mdef\u001B[39;00m \u001B[38;5;21mrefresh\u001B[39m(\u001B[38;5;28mself\u001B[39m) \u001B[38;5;241m-\u001B[39m\u001B[38;5;241m>\u001B[39m \u001B[38;5;28;01mNone\u001B[39;00m:\n\u001B[0;32m    656\u001B[0m \u001B[38;5;250m    \u001B[39m\u001B[38;5;124;03m\"\"\"Refreshes the current page.\u001B[39;00m\n\u001B[0;32m    657\u001B[0m \n\u001B[0;32m    658\u001B[0m \u001B[38;5;124;03m    :Usage:\u001B[39;00m\n\u001B[1;32m   (...)\u001B[0m\n\u001B[0;32m    661\u001B[0m \u001B[38;5;124;03m            driver.refresh()\u001B[39;00m\n\u001B[0;32m    662\u001B[0m \u001B[38;5;124;03m    \"\"\"\u001B[39;00m\n\u001B[1;32m--> 663\u001B[0m     \u001B[38;5;28;43mself\u001B[39;49m\u001B[38;5;241;43m.\u001B[39;49m\u001B[43mexecute\u001B[49m\u001B[43m(\u001B[49m\u001B[43mCommand\u001B[49m\u001B[38;5;241;43m.\u001B[39;49m\u001B[43mREFRESH\u001B[49m\u001B[43m)\u001B[49m\n",
      "File \u001B[1;32mC:\\JupyterLab\\JupyterLabDesktopAppServer\\lib\\site-packages\\selenium\\webdriver\\remote\\webdriver.py:440\u001B[0m, in \u001B[0;36mWebDriver.execute\u001B[1;34m(self, driver_command, params)\u001B[0m\n\u001B[0;32m    438\u001B[0m response \u001B[38;5;241m=\u001B[39m \u001B[38;5;28mself\u001B[39m\u001B[38;5;241m.\u001B[39mcommand_executor\u001B[38;5;241m.\u001B[39mexecute(driver_command, params)\n\u001B[0;32m    439\u001B[0m \u001B[38;5;28;01mif\u001B[39;00m response:\n\u001B[1;32m--> 440\u001B[0m     \u001B[38;5;28;43mself\u001B[39;49m\u001B[38;5;241;43m.\u001B[39;49m\u001B[43merror_handler\u001B[49m\u001B[38;5;241;43m.\u001B[39;49m\u001B[43mcheck_response\u001B[49m\u001B[43m(\u001B[49m\u001B[43mresponse\u001B[49m\u001B[43m)\u001B[49m\n\u001B[0;32m    441\u001B[0m     response[\u001B[38;5;124m\"\u001B[39m\u001B[38;5;124mvalue\u001B[39m\u001B[38;5;124m\"\u001B[39m] \u001B[38;5;241m=\u001B[39m \u001B[38;5;28mself\u001B[39m\u001B[38;5;241m.\u001B[39m_unwrap_value(response\u001B[38;5;241m.\u001B[39mget(\u001B[38;5;124m\"\u001B[39m\u001B[38;5;124mvalue\u001B[39m\u001B[38;5;124m\"\u001B[39m, \u001B[38;5;28;01mNone\u001B[39;00m))\n\u001B[0;32m    442\u001B[0m     \u001B[38;5;28;01mreturn\u001B[39;00m response\n",
      "File \u001B[1;32mC:\\JupyterLab\\JupyterLabDesktopAppServer\\lib\\site-packages\\selenium\\webdriver\\remote\\errorhandler.py:245\u001B[0m, in \u001B[0;36mErrorHandler.check_response\u001B[1;34m(self, response)\u001B[0m\n\u001B[0;32m    243\u001B[0m         alert_text \u001B[38;5;241m=\u001B[39m value[\u001B[38;5;124m\"\u001B[39m\u001B[38;5;124malert\u001B[39m\u001B[38;5;124m\"\u001B[39m]\u001B[38;5;241m.\u001B[39mget(\u001B[38;5;124m\"\u001B[39m\u001B[38;5;124mtext\u001B[39m\u001B[38;5;124m\"\u001B[39m)\n\u001B[0;32m    244\u001B[0m     \u001B[38;5;28;01mraise\u001B[39;00m exception_class(message, screen, stacktrace, alert_text)  \u001B[38;5;66;03m# type: ignore[call-arg]  # mypy is not smart enough here\u001B[39;00m\n\u001B[1;32m--> 245\u001B[0m \u001B[38;5;28;01mraise\u001B[39;00m exception_class(message, screen, stacktrace)\n",
      "\u001B[1;31mNoSuchWindowException\u001B[0m: Message: no such window: target window already closed\nfrom unknown error: web view not found\n  (Session info: chrome=114.0.5735.110)\nStacktrace:\nBacktrace:\n\tGetHandleVerifier [0x00F6A813+48355]\n\t(No symbol) [0x00EFC4B1]\n\t(No symbol) [0x00E05358]\n\t(No symbol) [0x00DED293]\n\t(No symbol) [0x00E4E37B]\n\t(No symbol) [0x00E5C473]\n\t(No symbol) [0x00E4A536]\n\t(No symbol) [0x00E282DC]\n\t(No symbol) [0x00E293DD]\n\tGetHandleVerifier [0x011CAABD+2539405]\n\tGetHandleVerifier [0x0120A78F+2800735]\n\tGetHandleVerifier [0x0120456C+2775612]\n\tGetHandleVerifier [0x00FF51E0+616112]\n\t(No symbol) [0x00F05F8C]\n\t(No symbol) [0x00F02328]\n\t(No symbol) [0x00F0240B]\n\t(No symbol) [0x00EF4FF7]\n\tBaseThreadInitThunk [0x75AA00F9+25]\n\tRtlGetAppContainerNamedObjectPath [0x772D7BBE+286]\n\tRtlGetAppContainerNamedObjectPath [0x772D7B8E+238]\n"
     ]
    }
   ],
   "source": [
    "###利用selenium上传图像至pl@antnet，并完成识别\n",
    "import os\n",
    "from bs4 import BeautifulSoup\n",
    "import requests\n",
    "import selenium\n",
    "from selenium import webdriver\n",
    "from selenium.webdriver.common.by import By\n",
    "from selenium.webdriver.common.action_chains import ActionChains\n",
    "from selenium.webdriver.common.keys import Keys\n",
    "import selenium.webdriver.support.ui as ui\n",
    "from selenium.webdriver.chrome.options import Options\n",
    "from selenium.webdriver.support.ui import WebDriverWait\n",
    "from selenium.webdriver.support import expected_conditions as EC\n",
    "import win32gui\n",
    "import win32con\n",
    "from urllib.request import urlopen\n",
    "from urllib.error import URLError\n",
    "from time import sleep\n",
    "import re\n",
    "import pandas as pd\n",
    "import pyautogui\n",
    "import time\n",
    "import pickle\n",
    "import random\n",
    "import glob\n",
    "import pandas as pd\n",
    "\n",
    "def uploads(filePath, browser_type=\"Chrome\"):\n",
    "    if browser_type == \"Chrome\":\n",
    "        title = \"打开\"\n",
    "    else:\n",
    "        title = \"文件上传\"\n",
    "    # 32770‐ComboBoxEx32 ‐ComboBox ‐Edit\n",
    "    dialog = win32gui.FindWindow(\"#32770\", title)  # 一级窗口 ‘打开窗口’\n",
    "    # 二级\n",
    "    ComboBoxEx32 = win32gui.FindWindowEx(dialog, 0, \"ComboBoxEx32\", None)\n",
    "    # 三级\n",
    "    ComboBox = win32gui.FindWindowEx(ComboBoxEx32, 0, \"ComboBox\", None)\n",
    "    # 四级\n",
    "    Edit = win32gui.FindWindowEx(ComboBox, 0, \"Edit\", None)\n",
    "    # 32770‐Button\n",
    "    button = win32gui.FindWindowEx(dialog, 0, \"Button\", None)  # 四级\n",
    "    # 往文件名编辑框中输入文件路径\n",
    "    # 上传操作\n",
    "    win32gui.SendMessage(Edit, win32con.WM_SETTEXT, None, filePath)\n",
    "    # 点击打开按钮\n",
    "    win32gui.SendMessage(dialog, win32con.WM_COMMAND, 1, button)\n",
    "    # 文件路径\n",
    "\n",
    "if __name__ == '__main__':\n",
    "    basepath = r\"H:\\test_rename\"\n",
    "    com = r\"H:\\测试集花伴侣测试.xlsx\"\n",
    "    base_url = \"https://identify.plantnet.org/\"\n",
    "    driver = webdriver.Chrome()\n",
    "\n",
    "    driver.implicitly_wait(1)\n",
    "    driver.maximize_window()\n",
    "    driver.get(base_url)\n",
    "    #upload_input = WebDriverWait(driver, 10).until(EC.presence_of_element_located((By.CLASS_NAME, \"upfilediv\")))\n",
    "    #driver.find_element(By.CLASS_NAME,\"upfilediv\").click()\n",
    "    #upload_input.send_keys(image_path)\n",
    "    #data = pd.read_excel(com)\n",
    "    #planf_list = data[\"Filename\"].to_list()\n",
    "    df = pd.DataFrame(columns=[\"Filename\",\"PlantName\",\"top1_classname\",\"top1_prob\",\"top5_classname\",\"top5_prob\"])\n",
    "    #rest = [f for f in glob.glob(os.path.join(basepath,\"*\",\"*.jpg\")) if f not in planf_list]\n",
    "    rest = glob.glob(os.path.join(basepath,\"*\",\"*.jpg\"))[174:]\n",
    "    for i,f in enumerate(rest):\n",
    "        #if f in planf_list:\n",
    "        #    continue\n",
    "        plantname = os.path.basename(f).split(\"_\")[0]\n",
    "        df.loc[i,\"Filename\"] = f\n",
    "        df.loc[i,\"PlantName\"] = plantname\n",
    "        try:\n",
    "            el_file = driver.find_element(By.CLASS_NAME,\"custom-file-label\")\n",
    "            ActionChains(driver).move_to_element(el_file).click().perform()\n",
    "            time.sleep(1)\n",
    "            uploads(filePath=f)\n",
    "            sleep(5)\n",
    "            #driver.refresh()\n",
    "            top = driver.find_elements(By.ID,\"modal-results___BV_modal_body_\")\n",
    "            category_info = [j.split(\"\\n\") for j in top[0].text.split(\"%\\n\")]\n",
    "            df.loc[i,\"top1_classname\"] = category_info[0][0]\n",
    "            df.loc[i,\"top1_prob\"] = category_info[0][-1]\n",
    "            df.loc[i,\"top5_classname\"] = [j[0] for j in category_info]\n",
    "            df.loc[i,\"top5_prob\"] = [j[-1] for j in category_info]\n",
    "        except Exception as e:\n",
    "            print(e)\n",
    "        finally:\n",
    "            driver.refresh()"
   ],
   "metadata": {
    "collapsed": false
   }
  },
  {
   "cell_type": "code",
   "execution_count": 99,
   "outputs": [
    {
     "data": {
      "text/plain": "                                             Filename               PlantName  \\\n0   H:\\test_rename\\Adenophora tetraphylla\\Adenopho...  Adenophora tetraphylla   \n1   H:\\test_rename\\Adenophora tetraphylla\\Adenopho...  Adenophora tetraphylla   \n2   H:\\test_rename\\Adenophora tetraphylla\\Adenopho...  Adenophora tetraphylla   \n3   H:\\test_rename\\Adenophora tetraphylla\\Adenopho...  Adenophora tetraphylla   \n4   H:\\test_rename\\Adenophora tetraphylla\\Adenopho...  Adenophora tetraphylla   \n..                                                ...                     ...   \n89  H:\\test_rename\\Allium condensatum\\Allium conde...      Allium condensatum   \n90  H:\\test_rename\\Allium condensatum\\Allium conde...      Allium condensatum   \n91  H:\\test_rename\\Allium condensatum\\Allium conde...      Allium condensatum   \n92  H:\\test_rename\\Allium macrostemon\\Allium macro...      Allium macrostemon   \n93  H:\\test_rename\\Allium macrostemon\\Allium macro...      Allium macrostemon   \n\n                         top1_classname   top1_prob  \\\n0   Adenophora triphylla (Thunb.) A.DC.       39.88   \n1   Adenophora triphylla (Thunb.) A.DC.       20.76   \n2                            Loading...  Loading...   \n3   Adenophora triphylla (Thunb.) A.DC.       41.91   \n4   Adenophora triphylla (Thunb.) A.DC.       33.29   \n..                                  ...         ...   \n89            Tecoma fulva (Cav.) G.Don        5.94   \n90                           Loading...  Loading...   \n91              Allium saxatile M.Bieb.       25.79   \n92            Thalictrum foliolosum DC.       17.79   \n93                                  NaN         NaN   \n\n                                       top5_classname  \\\n0   [Adenophora triphylla (Thunb.) A.DC., Isodon e...   \n1   [Adenophora triphylla (Thunb.) A.DC., Campanul...   \n2                                        [Loading...]   \n3   [Adenophora triphylla (Thunb.) A.DC., Adenopho...   \n4   [Adenophora triphylla (Thunb.) A.DC., Adenopho...   \n..                                                ...   \n89  [Tecoma fulva (Cav.) G.Don, Argentina peduncul...   \n90                                       [Loading...]   \n91  [Allium saxatile M.Bieb., Allium cepa L., Alli...   \n92  [Thalictrum foliolosum DC., Thalictrum aquileg...   \n93                                                NaN   \n\n                           top5_prob  \n0    [39.88, 0.72, 0.25, 0.15, 0.1%]  \n1   [20.76, 3.08, 1.59, 1.57, 1.21%]  \n2                       [Loading...]  \n3   [41.91, 17.4, 1.21, 0.62, 0.54%]  \n4    [33.29, 8.64, 0.53, 0.48, 0.4%]  \n..                               ...  \n89   [5.94, 5.91, 4.84, 2.64, 2.38%]  \n90                      [Loading...]  \n91  [25.79, 4.05, 2.43, 0.73, 0.61%]  \n92  [17.79, 3.04, 2.07, 1.35, 1.24%]  \n93                               NaN  \n\n[94 rows x 6 columns]",
      "text/html": "<div>\n<style scoped>\n    .dataframe tbody tr th:only-of-type {\n        vertical-align: middle;\n    }\n\n    .dataframe tbody tr th {\n        vertical-align: top;\n    }\n\n    .dataframe thead th {\n        text-align: right;\n    }\n</style>\n<table border=\"1\" class=\"dataframe\">\n  <thead>\n    <tr style=\"text-align: right;\">\n      <th></th>\n      <th>Filename</th>\n      <th>PlantName</th>\n      <th>top1_classname</th>\n      <th>top1_prob</th>\n      <th>top5_classname</th>\n      <th>top5_prob</th>\n    </tr>\n  </thead>\n  <tbody>\n    <tr>\n      <th>0</th>\n      <td>H:\\test_rename\\Adenophora tetraphylla\\Adenopho...</td>\n      <td>Adenophora tetraphylla</td>\n      <td>Adenophora triphylla (Thunb.) A.DC.</td>\n      <td>39.88</td>\n      <td>[Adenophora triphylla (Thunb.) A.DC., Isodon e...</td>\n      <td>[39.88, 0.72, 0.25, 0.15, 0.1%]</td>\n    </tr>\n    <tr>\n      <th>1</th>\n      <td>H:\\test_rename\\Adenophora tetraphylla\\Adenopho...</td>\n      <td>Adenophora tetraphylla</td>\n      <td>Adenophora triphylla (Thunb.) A.DC.</td>\n      <td>20.76</td>\n      <td>[Adenophora triphylla (Thunb.) A.DC., Campanul...</td>\n      <td>[20.76, 3.08, 1.59, 1.57, 1.21%]</td>\n    </tr>\n    <tr>\n      <th>2</th>\n      <td>H:\\test_rename\\Adenophora tetraphylla\\Adenopho...</td>\n      <td>Adenophora tetraphylla</td>\n      <td>Loading...</td>\n      <td>Loading...</td>\n      <td>[Loading...]</td>\n      <td>[Loading...]</td>\n    </tr>\n    <tr>\n      <th>3</th>\n      <td>H:\\test_rename\\Adenophora tetraphylla\\Adenopho...</td>\n      <td>Adenophora tetraphylla</td>\n      <td>Adenophora triphylla (Thunb.) A.DC.</td>\n      <td>41.91</td>\n      <td>[Adenophora triphylla (Thunb.) A.DC., Adenopho...</td>\n      <td>[41.91, 17.4, 1.21, 0.62, 0.54%]</td>\n    </tr>\n    <tr>\n      <th>4</th>\n      <td>H:\\test_rename\\Adenophora tetraphylla\\Adenopho...</td>\n      <td>Adenophora tetraphylla</td>\n      <td>Adenophora triphylla (Thunb.) A.DC.</td>\n      <td>33.29</td>\n      <td>[Adenophora triphylla (Thunb.) A.DC., Adenopho...</td>\n      <td>[33.29, 8.64, 0.53, 0.48, 0.4%]</td>\n    </tr>\n    <tr>\n      <th>...</th>\n      <td>...</td>\n      <td>...</td>\n      <td>...</td>\n      <td>...</td>\n      <td>...</td>\n      <td>...</td>\n    </tr>\n    <tr>\n      <th>89</th>\n      <td>H:\\test_rename\\Allium condensatum\\Allium conde...</td>\n      <td>Allium condensatum</td>\n      <td>Tecoma fulva (Cav.) G.Don</td>\n      <td>5.94</td>\n      <td>[Tecoma fulva (Cav.) G.Don, Argentina peduncul...</td>\n      <td>[5.94, 5.91, 4.84, 2.64, 2.38%]</td>\n    </tr>\n    <tr>\n      <th>90</th>\n      <td>H:\\test_rename\\Allium condensatum\\Allium conde...</td>\n      <td>Allium condensatum</td>\n      <td>Loading...</td>\n      <td>Loading...</td>\n      <td>[Loading...]</td>\n      <td>[Loading...]</td>\n    </tr>\n    <tr>\n      <th>91</th>\n      <td>H:\\test_rename\\Allium condensatum\\Allium conde...</td>\n      <td>Allium condensatum</td>\n      <td>Allium saxatile M.Bieb.</td>\n      <td>25.79</td>\n      <td>[Allium saxatile M.Bieb., Allium cepa L., Alli...</td>\n      <td>[25.79, 4.05, 2.43, 0.73, 0.61%]</td>\n    </tr>\n    <tr>\n      <th>92</th>\n      <td>H:\\test_rename\\Allium macrostemon\\Allium macro...</td>\n      <td>Allium macrostemon</td>\n      <td>Thalictrum foliolosum DC.</td>\n      <td>17.79</td>\n      <td>[Thalictrum foliolosum DC., Thalictrum aquileg...</td>\n      <td>[17.79, 3.04, 2.07, 1.35, 1.24%]</td>\n    </tr>\n    <tr>\n      <th>93</th>\n      <td>H:\\test_rename\\Allium macrostemon\\Allium macro...</td>\n      <td>Allium macrostemon</td>\n      <td>NaN</td>\n      <td>NaN</td>\n      <td>NaN</td>\n      <td>NaN</td>\n    </tr>\n  </tbody>\n</table>\n<p>94 rows × 6 columns</p>\n</div>"
     },
     "execution_count": 99,
     "metadata": {},
     "output_type": "execute_result"
    }
   ],
   "source": [
    "df"
   ],
   "metadata": {
    "collapsed": false
   }
  },
  {
   "cell_type": "code",
   "execution_count": 100,
   "outputs": [],
   "source": [
    "with pd.ExcelWriter(r\"H:\\Pl@antnet测试(174-268).xlsx\") as writer:\n",
    "    df.to_excel(writer)"
   ],
   "metadata": {
    "collapsed": false
   }
  },
  {
   "cell_type": "code",
   "execution_count": 81,
   "outputs": [],
   "source": [
    "a = [i.split(\"\\n\") for i in top[0].text.split(\"%\\n\")]"
   ],
   "metadata": {
    "collapsed": false
   }
  },
  {
   "cell_type": "code",
   "execution_count": 86,
   "outputs": [
    {
     "data": {
      "text/plain": "['Achillea distans Waldst. & Kit. ex Willd.',\n 'Achillea × roseoalba Ehrend.',\n 'Achillea millefolium L.',\n 'Achillea asiatica Serg.',\n 'Achillea nobilis L.']"
     },
     "execution_count": 86,
     "metadata": {},
     "output_type": "execute_result"
    }
   ],
   "source": [
    "[i[0] for i in a]"
   ],
   "metadata": {
    "collapsed": false
   }
  },
  {
   "cell_type": "code",
   "execution_count": null,
   "outputs": [
    {
     "name": "stdout",
     "output_type": "stream",
     "text": [
      "H:\\test_rename\\Achillea asiatica\\Achillea asiatica_0.jpg\n",
      "H:\\test_rename\\Achillea asiatica\\Achillea asiatica_1.jpg\n",
      "H:\\test_rename\\Achillea asiatica\\Achillea asiatica_2.jpg\n",
      "H:\\test_rename\\Achillea asiatica\\Achillea asiatica_3.jpg\n",
      "H:\\test_rename\\Achillea asiatica\\Achillea asiatica_4.jpg\n",
      "H:\\test_rename\\Achillea asiatica\\Achillea asiatica_5.jpg\n",
      "H:\\test_rename\\Achillea asiatica\\Achillea asiatica_6.jpg\n",
      "H:\\test_rename\\Achillea asiatica\\Achillea asiatica_7.jpg\n",
      "H:\\test_rename\\Achillea millefolium\\Achillea millefolium_0.jpg\n",
      "H:\\test_rename\\Achillea millefolium\\Achillea millefolium_1.jpg\n",
      "H:\\test_rename\\Achillea millefolium\\Achillea millefolium_10.jpg\n",
      "H:\\test_rename\\Achillea millefolium\\Achillea millefolium_11.jpg\n",
      "H:\\test_rename\\Achillea millefolium\\Achillea millefolium_12.jpg\n",
      "H:\\test_rename\\Achillea millefolium\\Achillea millefolium_13.jpg\n",
      "H:\\test_rename\\Achillea millefolium\\Achillea millefolium_14.jpg\n",
      "H:\\test_rename\\Achillea millefolium\\Achillea millefolium_15.jpg\n",
      "H:\\test_rename\\Achillea millefolium\\Achillea millefolium_16.jpg\n",
      "H:\\test_rename\\Achillea millefolium\\Achillea millefolium_17.jpg\n",
      "H:\\test_rename\\Achillea millefolium\\Achillea millefolium_18.jpg\n",
      "H:\\test_rename\\Achillea millefolium\\Achillea millefolium_19.jpg\n",
      "H:\\test_rename\\Achillea millefolium\\Achillea millefolium_2.jpg\n",
      "H:\\test_rename\\Achillea millefolium\\Achillea millefolium_20.jpg\n",
      "H:\\test_rename\\Achillea millefolium\\Achillea millefolium_21.jpg\n",
      "H:\\test_rename\\Achillea millefolium\\Achillea millefolium_22.jpg\n",
      "H:\\test_rename\\Achillea millefolium\\Achillea millefolium_23.jpg\n",
      "H:\\test_rename\\Achillea millefolium\\Achillea millefolium_24.jpg\n",
      "H:\\test_rename\\Achillea millefolium\\Achillea millefolium_3.jpg\n",
      "H:\\test_rename\\Achillea millefolium\\Achillea millefolium_4.jpg\n",
      "H:\\test_rename\\Achillea millefolium\\Achillea millefolium_5.jpg\n",
      "H:\\test_rename\\Achillea millefolium\\Achillea millefolium_6.jpg\n",
      "H:\\test_rename\\Achillea millefolium\\Achillea millefolium_7.jpg\n",
      "H:\\test_rename\\Achillea millefolium\\Achillea millefolium_8.jpg\n",
      "H:\\test_rename\\Achillea millefolium\\Achillea millefolium_9.jpg\n",
      "H:\\test_rename\\Achillea ptarmicoides\\Achillea ptarmicoides_0.jpg\n",
      "H:\\test_rename\\Achillea ptarmicoides\\Achillea ptarmicoides_1.jpg\n",
      "H:\\test_rename\\Achillea ptarmicoides\\Achillea ptarmicoides_2.jpg\n",
      "H:\\test_rename\\Achillea setacea\\Achillea setacea_0.jpg\n",
      "H:\\test_rename\\Achnatherum sibiricum\\Achnatherum sibiricum_0.jpg\n",
      "H:\\test_rename\\Achnatherum sibiricum\\Achnatherum sibiricum_1.jpg\n",
      "H:\\test_rename\\Aconitum kusnezoffii\\Aconitum kusnezoffii_0.jpg\n",
      "H:\\test_rename\\Aconitum kusnezoffii\\Aconitum kusnezoffii_1.jpg\n",
      "H:\\test_rename\\Aconitum kusnezoffii\\Aconitum kusnezoffii_10.jpg\n",
      "H:\\test_rename\\Aconitum kusnezoffii\\Aconitum kusnezoffii_11.jpg\n",
      "H:\\test_rename\\Aconitum kusnezoffii\\Aconitum kusnezoffii_12.jpg\n",
      "H:\\test_rename\\Aconitum kusnezoffii\\Aconitum kusnezoffii_13.jpg\n",
      "H:\\test_rename\\Aconitum kusnezoffii\\Aconitum kusnezoffii_14.jpg\n",
      "H:\\test_rename\\Aconitum kusnezoffii\\Aconitum kusnezoffii_15.jpg\n",
      "H:\\test_rename\\Aconitum kusnezoffii\\Aconitum kusnezoffii_2.jpg\n",
      "H:\\test_rename\\Aconitum kusnezoffii\\Aconitum kusnezoffii_3.jpg\n",
      "H:\\test_rename\\Aconitum kusnezoffii\\Aconitum kusnezoffii_4.jpg\n",
      "H:\\test_rename\\Aconitum kusnezoffii\\Aconitum kusnezoffii_5.jpg\n",
      "H:\\test_rename\\Aconitum kusnezoffii\\Aconitum kusnezoffii_6.jpg\n",
      "H:\\test_rename\\Aconitum kusnezoffii\\Aconitum kusnezoffii_7.jpg\n",
      "H:\\test_rename\\Aconitum kusnezoffii\\Aconitum kusnezoffii_8.jpg\n",
      "H:\\test_rename\\Aconitum kusnezoffii\\Aconitum kusnezoffii_9.jpg\n",
      "H:\\test_rename\\Acorus calamus\\Acorus calamus_0.jpg\n",
      "H:\\test_rename\\Acorus calamus\\Acorus calamus_1.jpg\n",
      "H:\\test_rename\\Acorus calamus\\Acorus calamus_10.jpg\n",
      "H:\\test_rename\\Acorus calamus\\Acorus calamus_11.jpg\n",
      "H:\\test_rename\\Acorus calamus\\Acorus calamus_12.jpg\n",
      "H:\\test_rename\\Acorus calamus\\Acorus calamus_13.jpg\n",
      "H:\\test_rename\\Acorus calamus\\Acorus calamus_14.jpg\n",
      "H:\\test_rename\\Acorus calamus\\Acorus calamus_15.jpg\n",
      "H:\\test_rename\\Acorus calamus\\Acorus calamus_2.jpg\n",
      "H:\\test_rename\\Acorus calamus\\Acorus calamus_3.jpg\n",
      "H:\\test_rename\\Acorus calamus\\Acorus calamus_4.jpg\n",
      "H:\\test_rename\\Acorus calamus\\Acorus calamus_5.jpg\n",
      "H:\\test_rename\\Acorus calamus\\Acorus calamus_6.jpg\n",
      "H:\\test_rename\\Acorus calamus\\Acorus calamus_7.jpg\n",
      "H:\\test_rename\\Acorus calamus\\Acorus calamus_8.jpg\n",
      "H:\\test_rename\\Acorus calamus\\Acorus calamus_9.jpg\n",
      "H:\\test_rename\\Actaea dahurica\\Actaea dahurica_0.jpg\n",
      "H:\\test_rename\\Actaea dahurica\\Actaea dahurica_1.jpg\n",
      "H:\\test_rename\\Actaea dahurica\\Actaea dahurica_2.jpg\n",
      "H:\\test_rename\\Actaea dahurica\\Actaea dahurica_3.jpg\n",
      "H:\\test_rename\\Actaea dahurica\\Actaea dahurica_4.jpg\n",
      "H:\\test_rename\\Actaea dahurica\\Actaea dahurica_5.jpg\n",
      "H:\\test_rename\\Actaea dahurica\\Actaea dahurica_6.jpg\n",
      "H:\\test_rename\\Actaea dahurica\\Actaea dahurica_7.jpg\n",
      "H:\\test_rename\\Actaea dahurica\\Actaea dahurica_8.jpg\n",
      "H:\\test_rename\\Actinostemma tenerum\\Actinostemma tenerum_0.jpg\n",
      "H:\\test_rename\\Actinostemma tenerum\\Actinostemma tenerum_1.jpg\n",
      "H:\\test_rename\\Actinostemma tenerum\\Actinostemma tenerum_10.jpg\n",
      "H:\\test_rename\\Actinostemma tenerum\\Actinostemma tenerum_11.jpg\n",
      "H:\\test_rename\\Actinostemma tenerum\\Actinostemma tenerum_12.jpg\n",
      "H:\\test_rename\\Actinostemma tenerum\\Actinostemma tenerum_13.jpg\n",
      "H:\\test_rename\\Actinostemma tenerum\\Actinostemma tenerum_14.jpg\n",
      "H:\\test_rename\\Actinostemma tenerum\\Actinostemma tenerum_15.jpg\n",
      "H:\\test_rename\\Actinostemma tenerum\\Actinostemma tenerum_16.jpg\n",
      "H:\\test_rename\\Actinostemma tenerum\\Actinostemma tenerum_17.jpg\n",
      "H:\\test_rename\\Actinostemma tenerum\\Actinostemma tenerum_18.jpg\n",
      "H:\\test_rename\\Actinostemma tenerum\\Actinostemma tenerum_19.jpg\n",
      "H:\\test_rename\\Actinostemma tenerum\\Actinostemma tenerum_2.jpg\n",
      "H:\\test_rename\\Actinostemma tenerum\\Actinostemma tenerum_20.jpg\n",
      "H:\\test_rename\\Actinostemma tenerum\\Actinostemma tenerum_21.jpg\n",
      "H:\\test_rename\\Actinostemma tenerum\\Actinostemma tenerum_22.jpg\n",
      "H:\\test_rename\\Actinostemma tenerum\\Actinostemma tenerum_23.jpg\n",
      "H:\\test_rename\\Actinostemma tenerum\\Actinostemma tenerum_24.jpg\n",
      "H:\\test_rename\\Actinostemma tenerum\\Actinostemma tenerum_25.jpg\n",
      "H:\\test_rename\\Actinostemma tenerum\\Actinostemma tenerum_26.jpg\n",
      "H:\\test_rename\\Actinostemma tenerum\\Actinostemma tenerum_3.jpg\n",
      "H:\\test_rename\\Actinostemma tenerum\\Actinostemma tenerum_4.jpg\n",
      "H:\\test_rename\\Actinostemma tenerum\\Actinostemma tenerum_5.jpg\n",
      "H:\\test_rename\\Actinostemma tenerum\\Actinostemma tenerum_6.jpg\n",
      "H:\\test_rename\\Actinostemma tenerum\\Actinostemma tenerum_7.jpg\n",
      "H:\\test_rename\\Actinostemma tenerum\\Actinostemma tenerum_8.jpg\n",
      "H:\\test_rename\\Actinostemma tenerum\\Actinostemma tenerum_9.jpg\n",
      "H:\\test_rename\\Adenophora capillaris subsp paniculata\\Adenophora capillaris subsp paniculata_0.jpg\n",
      "H:\\test_rename\\Adenophora capillaris subsp paniculata\\Adenophora capillaris subsp paniculata_1.jpg\n",
      "H:\\test_rename\\Adenophora capillaris subsp paniculata\\Adenophora capillaris subsp paniculata_2.jpg\n",
      "H:\\test_rename\\Adenophora capillaris subsp paniculata\\Adenophora capillaris subsp paniculata_3.jpg\n",
      "H:\\test_rename\\Adenophora capillaris subsp paniculata\\Adenophora capillaris subsp paniculata_4.jpg\n",
      "H:\\test_rename\\Adenophora capillaris subsp paniculata\\Adenophora capillaris subsp paniculata_5.jpg\n",
      "H:\\test_rename\\Adenophora capillaris subsp paniculata\\Adenophora capillaris subsp paniculata_6.jpg\n",
      "H:\\test_rename\\Adenophora divaricata\\Adenophora divaricata_0.jpg\n",
      "H:\\test_rename\\Adenophora divaricata\\Adenophora divaricata_1.jpg\n",
      "H:\\test_rename\\Adenophora divaricata\\Adenophora divaricata_2.jpg\n",
      "H:\\test_rename\\Adenophora divaricata\\Adenophora divaricata_3.jpg\n",
      "H:\\test_rename\\Adenophora divaricata\\Adenophora divaricata_4.jpg\n",
      "H:\\test_rename\\Adenophora divaricata\\Adenophora divaricata_5.jpg\n",
      "H:\\test_rename\\Adenophora divaricata\\Adenophora divaricata_6.jpg\n",
      "H:\\test_rename\\Adenophora divaricata\\Adenophora divaricata_7.jpg\n",
      "H:\\test_rename\\Adenophora divaricata\\Adenophora divaricata_8.jpg\n",
      "H:\\test_rename\\Adenophora gmelinii\\Adenophora gmelinii_0.jpg\n",
      "H:\\test_rename\\Adenophora gmelinii\\Adenophora gmelinii_1.jpg\n",
      "H:\\test_rename\\Adenophora gmelinii\\Adenophora gmelinii_2.jpg\n",
      "H:\\test_rename\\Adenophora gmelinii\\Adenophora gmelinii_3.jpg\n",
      "H:\\test_rename\\Adenophora gmelinii\\Adenophora gmelinii_4.jpg\n",
      "H:\\test_rename\\Adenophora gmelinii\\Adenophora gmelinii_5.jpg\n",
      "H:\\test_rename\\Adenophora gmelinii\\Adenophora gmelinii_6.jpg\n",
      "H:\\test_rename\\Adenophora gmelinii\\Adenophora gmelinii_7.jpg\n",
      "H:\\test_rename\\Adenophora gmelinii\\Adenophora gmelinii_8.jpg\n"
     ]
    }
   ],
   "source": [
    "#调用pl@antnet API\n",
    "import requests\n",
    "import json\n",
    "from pprint import pprint\n",
    "if __name__ == '__main__':\n",
    "    inpath = r\"H:\\test_rename\"\n",
    "    API_KEY = \"2b10HmngCaic2byAvT5qb6DJu\"  # Set you API_KEY here\n",
    "    PROJECT = \"all\" # try \"weurope\" or \"canada\"\n",
    "    api_endpoint = f\"https://my-api.plantnet.org/v2/identify/{PROJECT}?api-key={API_KEY}\"\n",
    "    image_list = glob.glob(os.path.join(inpath,\"*\",\"*.jpg\"))[:490]\n",
    "    df = pd.DataFrame(columns=[\"Filename\",\"fPlantName\",\"plnet_top1_scientificName\",\"plnet_top1_sciNameWithoutAuthor\",\"plnet_top1_score\",\"plnet_top5_scientificName\",\"plnet_top5_sciNameWithoutAuthor\",\"plnet_top5_score\"])\n",
    "    ###字段说明{Filename:输入图像的绝对路径，fPlantName：有文件名解析该图像鉴定物种名称，plnet_top1_scientificName：由pl@antnet识别的top1物种的科学名，plnet_top1_sciNameNotAuthor：无作者的植物名称（简名）}\n",
    "    for i,f in enumerate(image_list):\n",
    "        plantname = os.path.basename(f).split(\"_\")[0]\n",
    "        df.loc[i,\"Filename\"] = f\n",
    "        df.loc[i,\"fPlantName\"] = plantname\n",
    "        try:\n",
    "            image_data = open(f, 'rb')\n",
    "            files = [\n",
    "                ('images', (f, image_data)),\n",
    "            ]\n",
    "            req = requests.Request('POST', url=api_endpoint, files=files)\n",
    "            prepared = req.prepare()\n",
    "            s = requests.Session()\n",
    "            response = s.send(prepared)\n",
    "            json_result = json.loads(response.text)\n",
    "            result_dict = json_result[\"results\"]\n",
    "            if response.status_code == 200:\n",
    "                df.loc[i,\"plnet_top1_scientificName\"] = result_dict[0][\"species\"][\"scientificName\"]\n",
    "                df.loc[i,\"plnet_top1_sciNameWithoutAuthor\"] = result_dict[0][\"species\"][\"scientificNameWithoutAuthor\"]\n",
    "                df.loc[i,\"plnet_top1_score\"] = result_dict[0][\"score\"]\n",
    "                df.loc[i,\"plnet_top5_scientificName\"] = [result_dict[i][\"species\"][\"scientificName\"] for i in range(5)]\n",
    "                df.loc[i,\"plnet_top5_sciNameWithoutAuthor\"] = [result_dict[i][\"species\"][\"scientificNameWithoutAuthor\"] for i in range(5)]\n",
    "                df.loc[i,\"plnet_top5_score\"] = [result_dict[i][\"score\"] for i in range(5)]\n",
    "        except Exception as e:\n",
    "            print(e)\n",
    "        finally:\n",
    "            print(f)\n",
    "    with pd.ExcelWriter(r\"H:\\pl@antnet_0-490.xlsx\") as writer:\n",
    "        df.to_excel(writer)"
   ],
   "metadata": {
    "collapsed": false,
    "pycharm": {
     "is_executing": true
    }
   }
  },
  {
   "cell_type": "code",
   "execution_count": 119,
   "outputs": [
    {
     "data": {
      "text/plain": "{'scientificNameWithoutAuthor': 'Achillea nobilis',\n 'scientificNameAuthorship': 'L.',\n 'genus': {'scientificNameWithoutAuthor': 'Achillea',\n  'scientificNameAuthorship': '',\n  'scientificName': 'Achillea'},\n 'family': {'scientificNameWithoutAuthor': 'Compositae',\n  'scientificNameAuthorship': '',\n  'scientificName': 'Compositae'},\n 'commonNames': ['Noble yarrow', 'Yarrow', 'Creamy Yarrow'],\n 'scientificName': 'Achillea nobilis L.'}"
     },
     "execution_count": 119,
     "metadata": {},
     "output_type": "execute_result"
    }
   ],
   "source": [
    "json_result[\"results\"][0][\"species\"]"
   ],
   "metadata": {
    "collapsed": false
   }
  },
  {
   "cell_type": "code",
   "execution_count": 7,
   "outputs": [],
   "source": [
    "#对花伴侣测试的结果进行解析，和实际进行比对，计算准确率\n",
    "import os\n",
    "import pandas as pd\n",
    "\n",
    "if __name__ == '__main__':\n",
    "    inpath = r\"E:\\论文\\草地植物分类\\测试\\花伴侣测试\"\n",
    "    df = pd.read_excel(os.path.join(inpath,\"花伴侣测试结果_去重后.xlsx\"))\n",
    "    rows,cols = df.shape\n",
    "    for i in range(rows):\n",
    "        df.loc[i,\"top1_test_lable\"] = 1 if df.loc[i,\"PlantName\"] == df.loc[i,\"top1_classname\"] else 0\n",
    "        df.loc[i,\"top5_test_lable\"] = 1 if df.loc[i,\"PlantName\"] in df.loc[i,\"top5_classname\"] else 0\n",
    "    with pd.ExcelWriter(os.path.join(inpath,\"花伴侣测试结果_parser.xlsx\")) as writer:\n",
    "        df.to_excel(writer)"
   ],
   "metadata": {
    "collapsed": false,
    "ExecuteTime": {
     "end_time": "2023-06-16T02:42:21.481590500Z",
     "start_time": "2023-06-16T02:42:17.749324100Z"
    }
   }
  },
  {
   "cell_type": "code",
   "execution_count": 10,
   "outputs": [
    {
     "name": "stdout",
     "output_type": "stream",
     "text": [
      "argument of type 'float' is not iterable\n",
      "argument of type 'float' is not iterable\n",
      "argument of type 'float' is not iterable\n",
      "argument of type 'float' is not iterable\n",
      "argument of type 'float' is not iterable\n",
      "argument of type 'float' is not iterable\n",
      "argument of type 'float' is not iterable\n",
      "argument of type 'float' is not iterable\n",
      "argument of type 'float' is not iterable\n",
      "argument of type 'float' is not iterable\n",
      "argument of type 'float' is not iterable\n",
      "argument of type 'float' is not iterable\n",
      "argument of type 'float' is not iterable\n",
      "argument of type 'float' is not iterable\n",
      "argument of type 'float' is not iterable\n",
      "argument of type 'float' is not iterable\n",
      "argument of type 'float' is not iterable\n",
      "argument of type 'float' is not iterable\n",
      "argument of type 'float' is not iterable\n",
      "argument of type 'float' is not iterable\n",
      "argument of type 'float' is not iterable\n",
      "argument of type 'float' is not iterable\n",
      "argument of type 'float' is not iterable\n",
      "argument of type 'float' is not iterable\n",
      "argument of type 'float' is not iterable\n",
      "argument of type 'float' is not iterable\n",
      "argument of type 'float' is not iterable\n",
      "argument of type 'float' is not iterable\n",
      "argument of type 'float' is not iterable\n",
      "argument of type 'float' is not iterable\n",
      "argument of type 'float' is not iterable\n",
      "argument of type 'float' is not iterable\n",
      "argument of type 'float' is not iterable\n",
      "argument of type 'float' is not iterable\n",
      "argument of type 'float' is not iterable\n",
      "argument of type 'float' is not iterable\n",
      "argument of type 'float' is not iterable\n",
      "argument of type 'float' is not iterable\n",
      "argument of type 'float' is not iterable\n",
      "argument of type 'float' is not iterable\n",
      "argument of type 'float' is not iterable\n",
      "argument of type 'float' is not iterable\n",
      "argument of type 'float' is not iterable\n",
      "argument of type 'float' is not iterable\n",
      "argument of type 'float' is not iterable\n",
      "argument of type 'float' is not iterable\n",
      "argument of type 'float' is not iterable\n",
      "argument of type 'float' is not iterable\n",
      "argument of type 'float' is not iterable\n",
      "argument of type 'float' is not iterable\n",
      "argument of type 'float' is not iterable\n",
      "argument of type 'float' is not iterable\n",
      "argument of type 'float' is not iterable\n",
      "argument of type 'float' is not iterable\n",
      "argument of type 'float' is not iterable\n",
      "argument of type 'float' is not iterable\n",
      "argument of type 'float' is not iterable\n",
      "argument of type 'float' is not iterable\n",
      "argument of type 'float' is not iterable\n",
      "argument of type 'float' is not iterable\n",
      "argument of type 'float' is not iterable\n",
      "argument of type 'float' is not iterable\n",
      "argument of type 'float' is not iterable\n",
      "argument of type 'float' is not iterable\n",
      "argument of type 'float' is not iterable\n",
      "argument of type 'float' is not iterable\n",
      "argument of type 'float' is not iterable\n",
      "argument of type 'float' is not iterable\n",
      "argument of type 'float' is not iterable\n",
      "argument of type 'float' is not iterable\n",
      "argument of type 'float' is not iterable\n",
      "argument of type 'float' is not iterable\n",
      "argument of type 'float' is not iterable\n",
      "argument of type 'float' is not iterable\n",
      "argument of type 'float' is not iterable\n",
      "argument of type 'float' is not iterable\n",
      "argument of type 'float' is not iterable\n",
      "argument of type 'float' is not iterable\n",
      "argument of type 'float' is not iterable\n",
      "argument of type 'float' is not iterable\n",
      "argument of type 'float' is not iterable\n",
      "argument of type 'float' is not iterable\n",
      "argument of type 'float' is not iterable\n",
      "argument of type 'float' is not iterable\n",
      "argument of type 'float' is not iterable\n",
      "argument of type 'float' is not iterable\n",
      "argument of type 'float' is not iterable\n",
      "argument of type 'float' is not iterable\n",
      "argument of type 'float' is not iterable\n",
      "argument of type 'float' is not iterable\n",
      "argument of type 'float' is not iterable\n",
      "argument of type 'float' is not iterable\n",
      "argument of type 'float' is not iterable\n",
      "argument of type 'float' is not iterable\n",
      "argument of type 'float' is not iterable\n",
      "argument of type 'float' is not iterable\n",
      "argument of type 'float' is not iterable\n",
      "argument of type 'float' is not iterable\n",
      "argument of type 'float' is not iterable\n",
      "argument of type 'float' is not iterable\n",
      "argument of type 'float' is not iterable\n",
      "argument of type 'float' is not iterable\n",
      "argument of type 'float' is not iterable\n",
      "argument of type 'float' is not iterable\n",
      "argument of type 'float' is not iterable\n",
      "argument of type 'float' is not iterable\n",
      "argument of type 'float' is not iterable\n",
      "argument of type 'float' is not iterable\n",
      "argument of type 'float' is not iterable\n",
      "argument of type 'float' is not iterable\n",
      "argument of type 'float' is not iterable\n",
      "argument of type 'float' is not iterable\n",
      "argument of type 'float' is not iterable\n",
      "argument of type 'float' is not iterable\n",
      "argument of type 'float' is not iterable\n",
      "argument of type 'float' is not iterable\n",
      "argument of type 'float' is not iterable\n",
      "argument of type 'float' is not iterable\n",
      "argument of type 'float' is not iterable\n",
      "argument of type 'float' is not iterable\n",
      "argument of type 'float' is not iterable\n",
      "argument of type 'float' is not iterable\n",
      "argument of type 'float' is not iterable\n",
      "argument of type 'float' is not iterable\n",
      "argument of type 'float' is not iterable\n",
      "argument of type 'float' is not iterable\n",
      "argument of type 'float' is not iterable\n",
      "argument of type 'float' is not iterable\n",
      "argument of type 'float' is not iterable\n",
      "argument of type 'float' is not iterable\n",
      "argument of type 'float' is not iterable\n",
      "argument of type 'float' is not iterable\n",
      "argument of type 'float' is not iterable\n",
      "argument of type 'float' is not iterable\n"
     ]
    }
   ],
   "source": [
    "#对pl@antnet测试的结果进行解析，和实际进行比对，计算准确率\n",
    "import os\n",
    "import pandas as pd\n",
    "\n",
    "if __name__ == '__main__':\n",
    "    inpath = r\"E:\\论文\\草地植物分类\\测试\\pl@antnet\"\n",
    "    df = pd.read_excel(os.path.join(inpath,\"pl@antnet植物识别测试结果.xlsx\"))\n",
    "    rows,cols = df.shape\n",
    "    for i in range(rows):\n",
    "        try:\n",
    "            df.loc[i,\"top1_test_lable\"] = 1 if df.loc[i,\"fPlantName\"] == df.loc[i,\"plnet_top1_sciNameWithoutAuthor\"] else 0\n",
    "            df.loc[i,\"top5_test_lable\"] = 1 if df.loc[i,\"fPlantName\"] in df.loc[i,\"plnet_top5_sciNameWithoutAuthor\"] else 0\n",
    "        except Exception as e:\n",
    "            print(e)\n",
    "    with pd.ExcelWriter(os.path.join(inpath,\"pl@antnet_parser.xlsx\")) as writer:\n",
    "        df.to_excel(writer)"
   ],
   "metadata": {
    "collapsed": false,
    "ExecuteTime": {
     "end_time": "2023-06-16T03:43:30.431453700Z",
     "start_time": "2023-06-16T03:43:26.663203600Z"
    }
   }
  },
  {
   "cell_type": "code",
   "execution_count": 9,
   "outputs": [
    {
     "data": {
      "text/plain": "      Unnamed: 0.1                                           Filename  \\\n0                0  H:\\test_rename\\Achillea asiatica\\Achillea asia...   \n1                1  H:\\test_rename\\Achillea asiatica\\Achillea asia...   \n2                2  H:\\test_rename\\Achillea asiatica\\Achillea asia...   \n3                3  H:\\test_rename\\Achillea asiatica\\Achillea asia...   \n4                4  H:\\test_rename\\Achillea asiatica\\Achillea asia...   \n...            ...                                                ...   \n7080          6790  H:\\test_rename\\Veronicastrum sibiricum\\Veronic...   \n7081          6827  H:\\test_rename\\Vicia ramuliflora\\Vicia ramulif...   \n7082          7029  H:\\test_rename\\Viola variegata\\Viola variegata...   \n7083           409  H:\\test_rename\\Androsace gmelinii\\Androsace gm...   \n7084           411  H:\\test_rename\\Androsace incana\\Androsace inca...   \n\n                   fPlantName  \\\n0           Achillea asiatica   \n1           Achillea asiatica   \n2           Achillea asiatica   \n3           Achillea asiatica   \n4           Achillea asiatica   \n...                       ...   \n7080  Veronicastrum sibiricum   \n7081        Vicia ramuliflora   \n7082          Viola variegata   \n7083       Androsace gmelinii   \n7084         Androsace incana   \n\n                            plnet_top1_scientificName  \\\n0                                 Achillea nobilis L.   \n1                     Achillea setacea Waldst. & Kit.   \n2                             Achillea asiatica Serg.   \n3                                 Achillea nobilis L.   \n4                             Achillea asiatica Serg.   \n...                                               ...   \n7080              Veronicastrum virginicum (L.) Farw.   \n7081                      Lathyrus vernus (L.) Bernh.   \n7082                            Cyclamen graecum Link   \n7083                              Isoetes duriei Bory   \n7084  Plagiobothrys tenellus (Nutt. ex Hook.) A. Gray   \n\n     plnet_top1_sciNameWithoutAuthor  plnet_top1_score  \\\n0                   Achillea nobilis           0.44314   \n1                   Achillea setacea           0.40311   \n2                  Achillea asiatica           0.31597   \n3                   Achillea nobilis           0.59993   \n4                  Achillea asiatica           0.70474   \n...                              ...               ...   \n7080        Veronicastrum virginicum           0.59581   \n7081                 Lathyrus vernus           0.07047   \n7082                Cyclamen graecum           0.36309   \n7083                  Isoetes duriei           0.10797   \n7084          Plagiobothrys tenellus           0.36657   \n\n                              plnet_top5_scientificName  \\\n0     ['Achillea nobilis L.', 'Achillea millefolium ...   \n1     ['Achillea setacea Waldst. & Kit.', 'Achillea ...   \n2     ['Achillea asiatica Serg.', 'Achillea alpina L...   \n3     ['Achillea nobilis L.', 'Achillea roseo-alba E...   \n4     ['Achillea asiatica Serg.', 'Achillea roseo-al...   \n...                                                 ...   \n7080  ['Veronicastrum virginicum (L.) Farw.', 'Veron...   \n7081  ['Lathyrus vernus (L.) Bernh.', 'Buckleya dist...   \n7082  ['Cyclamen graecum Link', 'Viola selkirkii Pur...   \n7083  ['Isoetes duriei Bory', 'Plantago heterophylla...   \n7084  ['Plagiobothrys tenellus (Nutt. ex Hook.) A. G...   \n\n                        plnet_top5_sciNameWithoutAuthor  \\\n0     ['Achillea nobilis', 'Achillea millefolium', '...   \n1     ['Achillea setacea', 'Achillea asiatica', 'Ach...   \n2     ['Achillea asiatica', 'Achillea alpina', 'Achi...   \n3     ['Achillea nobilis', 'Achillea roseo-alba', 'A...   \n4     ['Achillea asiatica', 'Achillea roseo-alba', '...   \n...                                                 ...   \n7080  ['Veronicastrum virginicum', 'Veronicastrum si...   \n7081  ['Lathyrus vernus', 'Buckleya distichophylla',...   \n7082  ['Cyclamen graecum', 'Viola selkirkii', 'Cycla...   \n7083  ['Isoetes duriei', 'Plantago heterophylla', 'L...   \n7084  ['Plagiobothrys tenellus', 'Androsace chamaeja...   \n\n                                   plnet_top5_score  Unnamed: 0  \\\n0     [0.44314, 0.13786, 0.11165, 0.06035, 0.02959]         0.0   \n1     [0.40311, 0.15666, 0.06094, 0.02885, 0.01148]         1.0   \n2       [0.31597, 0.13025, 0.126, 0.11359, 0.10838]         2.0   \n3     [0.59993, 0.20365, 0.02212, 0.01438, 0.01128]         3.0   \n4     [0.70474, 0.09425, 0.03361, 0.03204, 0.02715]         4.0   \n...                                             ...         ...   \n7080   [0.59581, 0.3172, 0.05918, 0.00424, 0.00149]         NaN   \n7081  [0.07047, 0.05074, 0.03648, 0.03538, 0.02032]         NaN   \n7082   [0.36309, 0.06416, 0.0396, 0.01939, 0.01829]         NaN   \n7083   [0.10797, 0.0614, 0.03422, 0.01035, 0.00956]         NaN   \n7084   [0.36657, 0.30868, 0.0022, 0.00158, 0.00117]         NaN   \n\n      top1_test_lable  top5_test_lable  \n0                 0.0              0.0  \n1                 0.0              1.0  \n2                 1.0              1.0  \n3                 0.0              0.0  \n4                 1.0              1.0  \n...               ...              ...  \n7080              NaN              NaN  \n7081              NaN              NaN  \n7082              NaN              NaN  \n7083              NaN              NaN  \n7084              NaN              NaN  \n\n[7085 rows x 12 columns]",
      "text/html": "<div>\n<style scoped>\n    .dataframe tbody tr th:only-of-type {\n        vertical-align: middle;\n    }\n\n    .dataframe tbody tr th {\n        vertical-align: top;\n    }\n\n    .dataframe thead th {\n        text-align: right;\n    }\n</style>\n<table border=\"1\" class=\"dataframe\">\n  <thead>\n    <tr style=\"text-align: right;\">\n      <th></th>\n      <th>Unnamed: 0.1</th>\n      <th>Filename</th>\n      <th>fPlantName</th>\n      <th>plnet_top1_scientificName</th>\n      <th>plnet_top1_sciNameWithoutAuthor</th>\n      <th>plnet_top1_score</th>\n      <th>plnet_top5_scientificName</th>\n      <th>plnet_top5_sciNameWithoutAuthor</th>\n      <th>plnet_top5_score</th>\n      <th>Unnamed: 0</th>\n      <th>top1_test_lable</th>\n      <th>top5_test_lable</th>\n    </tr>\n  </thead>\n  <tbody>\n    <tr>\n      <th>0</th>\n      <td>0</td>\n      <td>H:\\test_rename\\Achillea asiatica\\Achillea asia...</td>\n      <td>Achillea asiatica</td>\n      <td>Achillea nobilis L.</td>\n      <td>Achillea nobilis</td>\n      <td>0.44314</td>\n      <td>['Achillea nobilis L.', 'Achillea millefolium ...</td>\n      <td>['Achillea nobilis', 'Achillea millefolium', '...</td>\n      <td>[0.44314, 0.13786, 0.11165, 0.06035, 0.02959]</td>\n      <td>0.0</td>\n      <td>0.0</td>\n      <td>0.0</td>\n    </tr>\n    <tr>\n      <th>1</th>\n      <td>1</td>\n      <td>H:\\test_rename\\Achillea asiatica\\Achillea asia...</td>\n      <td>Achillea asiatica</td>\n      <td>Achillea setacea Waldst. &amp; Kit.</td>\n      <td>Achillea setacea</td>\n      <td>0.40311</td>\n      <td>['Achillea setacea Waldst. &amp; Kit.', 'Achillea ...</td>\n      <td>['Achillea setacea', 'Achillea asiatica', 'Ach...</td>\n      <td>[0.40311, 0.15666, 0.06094, 0.02885, 0.01148]</td>\n      <td>1.0</td>\n      <td>0.0</td>\n      <td>1.0</td>\n    </tr>\n    <tr>\n      <th>2</th>\n      <td>2</td>\n      <td>H:\\test_rename\\Achillea asiatica\\Achillea asia...</td>\n      <td>Achillea asiatica</td>\n      <td>Achillea asiatica Serg.</td>\n      <td>Achillea asiatica</td>\n      <td>0.31597</td>\n      <td>['Achillea asiatica Serg.', 'Achillea alpina L...</td>\n      <td>['Achillea asiatica', 'Achillea alpina', 'Achi...</td>\n      <td>[0.31597, 0.13025, 0.126, 0.11359, 0.10838]</td>\n      <td>2.0</td>\n      <td>1.0</td>\n      <td>1.0</td>\n    </tr>\n    <tr>\n      <th>3</th>\n      <td>3</td>\n      <td>H:\\test_rename\\Achillea asiatica\\Achillea asia...</td>\n      <td>Achillea asiatica</td>\n      <td>Achillea nobilis L.</td>\n      <td>Achillea nobilis</td>\n      <td>0.59993</td>\n      <td>['Achillea nobilis L.', 'Achillea roseo-alba E...</td>\n      <td>['Achillea nobilis', 'Achillea roseo-alba', 'A...</td>\n      <td>[0.59993, 0.20365, 0.02212, 0.01438, 0.01128]</td>\n      <td>3.0</td>\n      <td>0.0</td>\n      <td>0.0</td>\n    </tr>\n    <tr>\n      <th>4</th>\n      <td>4</td>\n      <td>H:\\test_rename\\Achillea asiatica\\Achillea asia...</td>\n      <td>Achillea asiatica</td>\n      <td>Achillea asiatica Serg.</td>\n      <td>Achillea asiatica</td>\n      <td>0.70474</td>\n      <td>['Achillea asiatica Serg.', 'Achillea roseo-al...</td>\n      <td>['Achillea asiatica', 'Achillea roseo-alba', '...</td>\n      <td>[0.70474, 0.09425, 0.03361, 0.03204, 0.02715]</td>\n      <td>4.0</td>\n      <td>1.0</td>\n      <td>1.0</td>\n    </tr>\n    <tr>\n      <th>...</th>\n      <td>...</td>\n      <td>...</td>\n      <td>...</td>\n      <td>...</td>\n      <td>...</td>\n      <td>...</td>\n      <td>...</td>\n      <td>...</td>\n      <td>...</td>\n      <td>...</td>\n      <td>...</td>\n      <td>...</td>\n    </tr>\n    <tr>\n      <th>7080</th>\n      <td>6790</td>\n      <td>H:\\test_rename\\Veronicastrum sibiricum\\Veronic...</td>\n      <td>Veronicastrum sibiricum</td>\n      <td>Veronicastrum virginicum (L.) Farw.</td>\n      <td>Veronicastrum virginicum</td>\n      <td>0.59581</td>\n      <td>['Veronicastrum virginicum (L.) Farw.', 'Veron...</td>\n      <td>['Veronicastrum virginicum', 'Veronicastrum si...</td>\n      <td>[0.59581, 0.3172, 0.05918, 0.00424, 0.00149]</td>\n      <td>NaN</td>\n      <td>NaN</td>\n      <td>NaN</td>\n    </tr>\n    <tr>\n      <th>7081</th>\n      <td>6827</td>\n      <td>H:\\test_rename\\Vicia ramuliflora\\Vicia ramulif...</td>\n      <td>Vicia ramuliflora</td>\n      <td>Lathyrus vernus (L.) Bernh.</td>\n      <td>Lathyrus vernus</td>\n      <td>0.07047</td>\n      <td>['Lathyrus vernus (L.) Bernh.', 'Buckleya dist...</td>\n      <td>['Lathyrus vernus', 'Buckleya distichophylla',...</td>\n      <td>[0.07047, 0.05074, 0.03648, 0.03538, 0.02032]</td>\n      <td>NaN</td>\n      <td>NaN</td>\n      <td>NaN</td>\n    </tr>\n    <tr>\n      <th>7082</th>\n      <td>7029</td>\n      <td>H:\\test_rename\\Viola variegata\\Viola variegata...</td>\n      <td>Viola variegata</td>\n      <td>Cyclamen graecum Link</td>\n      <td>Cyclamen graecum</td>\n      <td>0.36309</td>\n      <td>['Cyclamen graecum Link', 'Viola selkirkii Pur...</td>\n      <td>['Cyclamen graecum', 'Viola selkirkii', 'Cycla...</td>\n      <td>[0.36309, 0.06416, 0.0396, 0.01939, 0.01829]</td>\n      <td>NaN</td>\n      <td>NaN</td>\n      <td>NaN</td>\n    </tr>\n    <tr>\n      <th>7083</th>\n      <td>409</td>\n      <td>H:\\test_rename\\Androsace gmelinii\\Androsace gm...</td>\n      <td>Androsace gmelinii</td>\n      <td>Isoetes duriei Bory</td>\n      <td>Isoetes duriei</td>\n      <td>0.10797</td>\n      <td>['Isoetes duriei Bory', 'Plantago heterophylla...</td>\n      <td>['Isoetes duriei', 'Plantago heterophylla', 'L...</td>\n      <td>[0.10797, 0.0614, 0.03422, 0.01035, 0.00956]</td>\n      <td>NaN</td>\n      <td>NaN</td>\n      <td>NaN</td>\n    </tr>\n    <tr>\n      <th>7084</th>\n      <td>411</td>\n      <td>H:\\test_rename\\Androsace incana\\Androsace inca...</td>\n      <td>Androsace incana</td>\n      <td>Plagiobothrys tenellus (Nutt. ex Hook.) A. Gray</td>\n      <td>Plagiobothrys tenellus</td>\n      <td>0.36657</td>\n      <td>['Plagiobothrys tenellus (Nutt. ex Hook.) A. G...</td>\n      <td>['Plagiobothrys tenellus', 'Androsace chamaeja...</td>\n      <td>[0.36657, 0.30868, 0.0022, 0.00158, 0.00117]</td>\n      <td>NaN</td>\n      <td>NaN</td>\n      <td>NaN</td>\n    </tr>\n  </tbody>\n</table>\n<p>7085 rows × 12 columns</p>\n</div>"
     },
     "execution_count": 9,
     "metadata": {},
     "output_type": "execute_result"
    }
   ],
   "source": [],
   "metadata": {
    "collapsed": false,
    "ExecuteTime": {
     "end_time": "2023-06-16T03:38:09.947290500Z",
     "start_time": "2023-06-16T03:38:09.912654900Z"
    }
   }
  },
  {
   "cell_type": "code",
   "execution_count": 7,
   "outputs": [
    {
     "name": "stderr",
     "output_type": "stream",
     "text": [
      "C:\\Users\\kbqin\\AppData\\Local\\Temp\\ipykernel_20980\\1993975708.py:9: FutureWarning: Indexing with multiple keys (implicitly converted to a tuple of keys) will be deprecated, use a list instead.\n",
      "  infer_df_sum = infer_df.groupby(by=[\"fPlantName\"])[\"top1_test_lable\",\"top5_test_lable\"].sum()     #统计每个种类top1和top5预测正确数量\n"
     ]
    }
   ],
   "source": [
    "##花伴侣识别结果按类统计\n",
    "#将分类表和推理表进行匹配，方便后续分类进行统计\n",
    "import pandas as pd\n",
    "import matplotlib.pyplot as plt\n",
    "\n",
    "if __name__ == '__main__':\n",
    "    infer_table = r\"E:\\论文\\草地植物分类\\测试\\pl@antnet\\pl@antnet_parser.xlsx\"\n",
    "    infer_df = pd.read_excel(infer_table)\n",
    "    infer_df_sum = infer_df.groupby(by=[\"fPlantName\"])[\"top1_test_lable\",\"top5_test_lable\"].sum()     #统计每个种类top1和top5预测正确数量"
   ],
   "metadata": {
    "collapsed": false,
    "ExecuteTime": {
     "end_time": "2023-06-16T10:16:17.593262400Z",
     "start_time": "2023-06-16T10:16:16.278497300Z"
    }
   }
  },
  {
   "cell_type": "code",
   "execution_count": 9,
   "outputs": [
    {
     "data": {
      "text/plain": "                          top1_test_lable  top5_test_lable\nfPlantName                                                \nAchillea asiatica                     5.0              6.0\nAchillea millefolium                  2.0              9.0\nAcorus calamus                        3.0              3.0\nActaea dahurica                       4.0              7.0\nAegopodium alpestre                   1.0              2.0\n...                                   ...              ...\nViola collina                         8.0             11.0\nViola mirabilis                       1.0              3.0\nWoodsia ilvensis                      1.0              2.0\nXanthium strumarium                  19.0             27.0\nZanthoxylum schinifolium              2.0              5.0\n\n[207 rows x 2 columns]",
      "text/html": "<div>\n<style scoped>\n    .dataframe tbody tr th:only-of-type {\n        vertical-align: middle;\n    }\n\n    .dataframe tbody tr th {\n        vertical-align: top;\n    }\n\n    .dataframe thead th {\n        text-align: right;\n    }\n</style>\n<table border=\"1\" class=\"dataframe\">\n  <thead>\n    <tr style=\"text-align: right;\">\n      <th></th>\n      <th>top1_test_lable</th>\n      <th>top5_test_lable</th>\n    </tr>\n    <tr>\n      <th>fPlantName</th>\n      <th></th>\n      <th></th>\n    </tr>\n  </thead>\n  <tbody>\n    <tr>\n      <th>Achillea asiatica</th>\n      <td>5.0</td>\n      <td>6.0</td>\n    </tr>\n    <tr>\n      <th>Achillea millefolium</th>\n      <td>2.0</td>\n      <td>9.0</td>\n    </tr>\n    <tr>\n      <th>Acorus calamus</th>\n      <td>3.0</td>\n      <td>3.0</td>\n    </tr>\n    <tr>\n      <th>Actaea dahurica</th>\n      <td>4.0</td>\n      <td>7.0</td>\n    </tr>\n    <tr>\n      <th>Aegopodium alpestre</th>\n      <td>1.0</td>\n      <td>2.0</td>\n    </tr>\n    <tr>\n      <th>...</th>\n      <td>...</td>\n      <td>...</td>\n    </tr>\n    <tr>\n      <th>Viola collina</th>\n      <td>8.0</td>\n      <td>11.0</td>\n    </tr>\n    <tr>\n      <th>Viola mirabilis</th>\n      <td>1.0</td>\n      <td>3.0</td>\n    </tr>\n    <tr>\n      <th>Woodsia ilvensis</th>\n      <td>1.0</td>\n      <td>2.0</td>\n    </tr>\n    <tr>\n      <th>Xanthium strumarium</th>\n      <td>19.0</td>\n      <td>27.0</td>\n    </tr>\n    <tr>\n      <th>Zanthoxylum schinifolium</th>\n      <td>2.0</td>\n      <td>5.0</td>\n    </tr>\n  </tbody>\n</table>\n<p>207 rows × 2 columns</p>\n</div>"
     },
     "execution_count": 9,
     "metadata": {},
     "output_type": "execute_result"
    }
   ],
   "source": [
    "infer_df_sum.loc[infer_df_sum.top1_test_lable > 0,:]"
   ],
   "metadata": {
    "collapsed": false,
    "ExecuteTime": {
     "end_time": "2023-06-16T10:16:40.694606500Z",
     "start_time": "2023-06-16T10:16:40.662898200Z"
    }
   }
  },
  {
   "cell_type": "code",
   "execution_count": null,
   "outputs": [],
   "source": [],
   "metadata": {
    "collapsed": false
   }
  }
 ],
 "metadata": {
  "kernelspec": {
   "display_name": "Python 3",
   "language": "python",
   "name": "python3"
  },
  "language_info": {
   "codemirror_mode": {
    "name": "ipython",
    "version": 2
   },
   "file_extension": ".py",
   "mimetype": "text/x-python",
   "name": "python",
   "nbconvert_exporter": "python",
   "pygments_lexer": "ipython2",
   "version": "2.7.6"
  }
 },
 "nbformat": 4,
 "nbformat_minor": 0
}
